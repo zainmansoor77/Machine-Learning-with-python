{
 "cells": [
  {
   "cell_type": "markdown",
   "metadata": {},
   "source": [
    "# numpy.arange()\n",
    "NumPy-based algorithms are generally 10 to 100 times faster (or more) than their\n",
    "pure Python counterparts and use significantly less memory"
   ]
  },
  {
   "cell_type": "code",
   "execution_count": 2,
   "metadata": {},
   "outputs": [
    {
     "name": "stdout",
     "output_type": "stream",
     "text": [
      "[10 15 20 25]\n"
     ]
    }
   ],
   "source": [
    "import numpy as np\n",
    "a = np.arange(10,30,5)\n",
    "print(a)"
   ]
  },
  {
   "cell_type": "code",
   "execution_count": 3,
   "metadata": {},
   "outputs": [
    {
     "name": "stdout",
     "output_type": "stream",
     "text": [
      "A\n",
      " [[0 1]\n",
      " [2 3]] \n",
      "\n",
      "A\n",
      " [4 5 6 7 8 9] \n",
      "\n",
      "A\n",
      " [ 4  7 10 13 16 19] \n",
      "\n"
     ]
    }
   ],
   "source": [
    "# Python Programming illustrating \n",
    "# numpy.arange method \n",
    "  \n",
    "import numpy as np\n",
    "  \n",
    "print(\"A\\n\", np.arange(4).reshape(2, 2), \"\\n\") \n",
    "  \n",
    "print(\"A\\n\", np.arange(4, 10), \"\\n\") \n",
    "  \n",
    "print(\"A\\n\", np.arange(4, 20, 3), \"\\n\") "
   ]
  },
  {
   "cell_type": "markdown",
   "metadata": {},
   "source": [
    "# numpy.reshape()"
   ]
  },
  {
   "cell_type": "code",
   "execution_count": 4,
   "metadata": {},
   "outputs": [
    {
     "name": "stdout",
     "output_type": "stream",
     "text": [
      "Original array : \n",
      " [0 1 2 3 4 5 6 7]\n",
      "\n",
      "array reshaped with 2 rows and 4 columns : \n",
      " [[0 1 2 3]\n",
      " [4 5 6 7]]\n",
      "\n",
      "array reshaped with 2 rows and 4 columns : \n",
      " [[0 1]\n",
      " [2 3]\n",
      " [4 5]\n",
      " [6 7]]\n",
      "\n",
      "Original array reshaped to 3D : \n",
      " [[[0 1]\n",
      "  [2 3]]\n",
      "\n",
      " [[4 5]\n",
      "  [6 7]]]\n"
     ]
    }
   ],
   "source": [
    "# Python Program illustrating \n",
    "# numpy.reshape() method \n",
    "  \n",
    "import numpy as np \n",
    "  \n",
    "array = np.arange(8) \n",
    "print(\"Original array : \\n\", array) \n",
    "  \n",
    "# shape array with 2 rows and 4 columns \n",
    "array = np.arange(8).reshape(2, 4) \n",
    "print(\"\\narray reshaped with 2 rows and 4 columns : \\n\", array) \n",
    "  \n",
    "# shape array with 2 rows and 4 columns \n",
    "array = np.arange(8).reshape(4 ,2) \n",
    "print(\"\\narray reshaped with 2 rows and 4 columns : \\n\", array) \n",
    "  \n",
    "# Constructs 3D array \n",
    "array = np.arange(8).reshape(2, 2, 2) \n",
    "print(\"\\nOriginal array reshaped to 3D : \\n\", array) "
   ]
  },
  {
   "cell_type": "code",
   "execution_count": 5,
   "metadata": {},
   "outputs": [
    {
     "name": "stdout",
     "output_type": "stream",
     "text": [
      "Wall time: 0 ns\n"
     ]
    }
   ],
   "source": [
    "%time for _ in range(10): my_arr2 = array * 2"
   ]
  },
  {
   "cell_type": "markdown",
   "metadata": {},
   "source": [
    "# numpy.random.randn()"
   ]
  },
  {
   "cell_type": "markdown",
   "metadata": {},
   "source": [
    "### randomly constructing 1D array"
   ]
  },
  {
   "cell_type": "code",
   "execution_count": 6,
   "metadata": {},
   "outputs": [
    {
     "name": "stdout",
     "output_type": "stream",
     "text": [
      "1D Array filled with random values : \n",
      " [1.80291739 1.72901932 1.17037828 1.4083274  0.16327289]\n"
     ]
    }
   ],
   "source": [
    "# Python Program illustrating \n",
    "# numpy.random.randn() method \n",
    "   \n",
    "import numpy as np \n",
    "   \n",
    "# 1D Array \n",
    "array = np.random.randn(5) \n",
    "print(\"1D Array filled with random values : \\n\", array); \n"
   ]
  },
  {
   "cell_type": "markdown",
   "metadata": {},
   "source": [
    "### randomly constructing 2D array"
   ]
  },
  {
   "cell_type": "code",
   "execution_count": 7,
   "metadata": {},
   "outputs": [
    {
     "name": "stdout",
     "output_type": "stream",
     "text": [
      "2D Array filled with random values : \n",
      " [[ 0.50752452 -1.58250975 -0.38581262  0.77870242]\n",
      " [-1.36277558  0.37970064  1.33778426  1.53023782]\n",
      " [-0.65374959  0.88320417 -0.85785219  1.24657268]]\n"
     ]
    }
   ],
   "source": [
    "# Python Program illustrating \n",
    "# numpy.random.randn() method \n",
    "   \n",
    "import numpy as np \n",
    "   \n",
    "# 2D Array    \n",
    "array = np.random.randn(3, 4) \n",
    "print(\"2D Array filled with random values : \\n\", array);"
   ]
  },
  {
   "cell_type": "markdown",
   "metadata": {},
   "source": [
    "### randomly constructing 3D array"
   ]
  },
  {
   "cell_type": "code",
   "execution_count": 8,
   "metadata": {},
   "outputs": [
    {
     "name": "stdout",
     "output_type": "stream",
     "text": [
      "3D Array filled with random values : \n",
      " [[[ 2.66631739 -0.79747539]\n",
      "  [ 0.81389981  0.62765011]]\n",
      "\n",
      " [[ 1.48138319  0.6967646 ]\n",
      "  [ 1.57983278  0.67575059]]]\n"
     ]
    }
   ],
   "source": [
    "# Python Program illustrating \n",
    "# numpy.random.randn() method \n",
    "   \n",
    "import numpy as np \n",
    "   \n",
    "# 3D Array      \n",
    "array = np.random.randn(2, 2 ,2) \n",
    "print(\"3D Array filled with random values : \\n\", array);"
   ]
  },
  {
   "cell_type": "code",
   "execution_count": 9,
   "metadata": {},
   "outputs": [
    {
     "name": "stdout",
     "output_type": "stream",
     "text": [
      "3D Array filled with random values : \n",
      " [[[ 0.79062299 -0.8130796 ]\n",
      "  [-1.47446788 -1.33576403]]\n",
      "\n",
      " [[-0.60738044  0.73579137]\n",
      "  [-1.02665738  1.32276961]]]\n",
      "\n",
      "Array * 3 : \n",
      " [[[ 2.37186896 -2.4392388 ]\n",
      "  [-4.42340363 -4.0072921 ]]\n",
      "\n",
      " [[-1.82214133  2.20737412]\n",
      "  [-3.07997213  3.96830883]]]\n",
      "\n",
      "Array * 3 + 2 : \n",
      " [[[ 4.37186896 -0.4392388 ]\n",
      "  [-2.42340363 -2.0072921 ]]\n",
      "\n",
      " [[ 0.17785867  4.20737412]\n",
      "  [-1.07997213  5.96830883]]]\n",
      "\n",
      "Array * 3 + 2 : \n",
      " [[[ 8.73217202  2.86605379]\n",
      "  [ 3.40260768  1.07268269]]\n",
      "\n",
      " [[ 2.79470096 -2.00053861]\n",
      "  [-1.11946582  1.90453241]]]\n"
     ]
    }
   ],
   "source": [
    "# Python Program illustrating \n",
    "# numpy.random.randn() method \n",
    "   \n",
    "import numpy as np \n",
    "   \n",
    "# 3D Array      \n",
    "array = np.random.randn(2, 2 ,2) \n",
    "print(\"3D Array filled with random values : \\n\", array); \n",
    "       \n",
    "# Multiplying values with 3 \n",
    "print(\"\\nArray * 3 : \\n\", array *3) \n",
    "\n",
    "# Multiplying values with 3 + 2\n",
    "print(\"\\nArray * 3 + 2 : \\n\", array *3 + 2) \n",
    "  \n",
    "# Or we cab directly do so by  \n",
    "array = np.random.randn(2, 2 ,2) * 3 + 2\n",
    "print(\"\\nArray * 3 + 2 : \\n\", array); \n"
   ]
  },
  {
   "cell_type": "markdown",
   "metadata": {},
   "source": [
    "# Creating ndarrays"
   ]
  },
  {
   "cell_type": "code",
   "execution_count": 10,
   "metadata": {},
   "outputs": [
    {
     "name": "stdout",
     "output_type": "stream",
     "text": [
      "[6.  7.5 8.  0.  1. ]\n"
     ]
    }
   ],
   "source": [
    "data1 = [6, 7.5, 8, 0, 1]\n",
    "arr1 = np.array(data1)\n",
    "#print(data1)\n",
    "print(arr1)"
   ]
  },
  {
   "cell_type": "code",
   "execution_count": 11,
   "metadata": {},
   "outputs": [
    {
     "name": "stdout",
     "output_type": "stream",
     "text": [
      "[[1 2 3 4]\n",
      " [5 6 7 8]]\n"
     ]
    }
   ],
   "source": [
    "data2 = [[1, 2, 3, 4], [5, 6, 7, 8]]\n",
    "arr2 = np.array(data2)\n",
    "print(arr2)"
   ]
  },
  {
   "cell_type": "code",
   "execution_count": 12,
   "metadata": {},
   "outputs": [
    {
     "name": "stdout",
     "output_type": "stream",
     "text": [
      "Array with Rank 1: \n",
      " [1 2 3]\n",
      "Array with Rank 2: \n",
      " [[1 2 3]\n",
      " [4 5 6]]\n",
      "\n",
      "Array created using passed tuple:\n",
      " [1 3 2]\n"
     ]
    }
   ],
   "source": [
    "# Python program for\n",
    "# Creation of Arrays\n",
    "import numpy as np\n",
    " \n",
    "# Creating a rank 1 Array\n",
    "arr = np.array([1, 2, 3])\n",
    "print(\"Array with Rank 1: \\n\",arr)\n",
    " \n",
    "# Creating a rank 2 Array\n",
    "arr = np.array([[1, 2, 3],\n",
    "                [4, 5, 6]])\n",
    "print(\"Array with Rank 2: \\n\", arr)\n",
    " \n",
    "# Creating an array from tuple\n",
    "arr = np.array((1, 3, 2))\n",
    "print(\"\\nArray created using \"\n",
    "      \"passed tuple:\\n\", arr)"
   ]
  },
  {
   "cell_type": "markdown",
   "metadata": {},
   "source": [
    "### .ndim"
   ]
  },
  {
   "cell_type": "code",
   "execution_count": 13,
   "metadata": {},
   "outputs": [
    {
     "name": "stdout",
     "output_type": "stream",
     "text": [
      "2\n"
     ]
    }
   ],
   "source": [
    "data2 = [[1, 2, 3, 4], [5, 6, 7, 8]]\n",
    "arr2 = np.array(data2)\n",
    "print(arr2.ndim)"
   ]
  },
  {
   "cell_type": "markdown",
   "metadata": {},
   "source": [
    "### .shape"
   ]
  },
  {
   "cell_type": "code",
   "execution_count": 14,
   "metadata": {},
   "outputs": [
    {
     "name": "stdout",
     "output_type": "stream",
     "text": [
      "(2, 4)\n"
     ]
    }
   ],
   "source": [
    "data2 = [[1, 2, 3, 4], [5, 6, 7, 8]]\n",
    "arr2 = np.array(data2)\n",
    "print(arr2.shape)"
   ]
  },
  {
   "cell_type": "markdown",
   "metadata": {},
   "source": [
    "### .dtype"
   ]
  },
  {
   "cell_type": "code",
   "execution_count": 15,
   "metadata": {},
   "outputs": [
    {
     "name": "stdout",
     "output_type": "stream",
     "text": [
      "int32\n"
     ]
    }
   ],
   "source": [
    "data2 = [[1, 2, 3, 4], [5, 6, 7, 8]]\n",
    "arr2 = np.array(data2)\n",
    "print(arr2.dtype)"
   ]
  },
  {
   "cell_type": "markdown",
   "metadata": {},
   "source": [
    "# numpy.zeros()"
   ]
  },
  {
   "cell_type": "code",
   "execution_count": 16,
   "metadata": {},
   "outputs": [
    {
     "name": "stdout",
     "output_type": "stream",
     "text": [
      "[0. 0. 0. 0. 0. 0. 0. 0. 0. 0.]\n"
     ]
    }
   ],
   "source": [
    "arr =  np.zeros(10)\n",
    "print(arr)"
   ]
  },
  {
   "cell_type": "code",
   "execution_count": 17,
   "metadata": {},
   "outputs": [
    {
     "name": "stdout",
     "output_type": "stream",
     "text": [
      "[[0. 0. 0. 0. 0. 0.]\n",
      " [0. 0. 0. 0. 0. 0.]\n",
      " [0. 0. 0. 0. 0. 0.]]\n"
     ]
    }
   ],
   "source": [
    "arr = np.zeros((3, 6))\n",
    "print(arr)"
   ]
  },
  {
   "cell_type": "code",
   "execution_count": 18,
   "metadata": {},
   "outputs": [
    {
     "name": "stdout",
     "output_type": "stream",
     "text": [
      "Matrix b : \n",
      " [0 0]\n",
      "\n",
      "Matrix a : \n",
      " [[0 0]\n",
      " [0 0]]\n",
      "\n",
      "Matrix c : \n",
      " [[0. 0. 0.]\n",
      " [0. 0. 0.]\n",
      " [0. 0. 0.]]\n"
     ]
    }
   ],
   "source": [
    "import numpy as geek \n",
    "  \n",
    "b = np.zeros(2, dtype = int) \n",
    "print(\"Matrix b : \\n\", b) \n",
    "  \n",
    "a = np.zeros([2, 2], dtype = int) \n",
    "print(\"\\nMatrix a : \\n\", a) \n",
    "  \n",
    "c = np.zeros([3, 3]) \n",
    "print(\"\\nMatrix c : \\n\", c) "
   ]
  },
  {
   "cell_type": "code",
   "execution_count": 19,
   "metadata": {},
   "outputs": [
    {
     "name": "stdout",
     "output_type": "stream",
     "text": [
      "[(0., 0, 0.+0.j) (0., 0, 0.+0.j)]\n"
     ]
    }
   ],
   "source": [
    "# Python Program illustrating \n",
    "# numpy.zeros method \n",
    "  \n",
    "import numpy as np \n",
    "  \n",
    "# manipulation with data-types \n",
    "b = np.zeros(2, dtype=[('x', 'float'), ('y', 'int'),(\"z\",\"complex\")]) \n",
    "print(b)"
   ]
  },
  {
   "cell_type": "markdown",
   "metadata": {},
   "source": [
    "# numpy.empty()\n",
    "It’s not safe to assume that np.empty will return an array of all\n",
    "zeros. In some cases, it may return uninitialized “garbage” values."
   ]
  },
  {
   "cell_type": "code",
   "execution_count": 20,
   "metadata": {},
   "outputs": [
    {
     "name": "stdout",
     "output_type": "stream",
     "text": [
      "Matrix b : \n",
      " [0 0]\n",
      "\n",
      "Matrix a : \n",
      " [[0 0]\n",
      " [0 0]]\n",
      "\n",
      "Matrix c : \n",
      " [[0. 0. 0.]\n",
      " [0. 0. 0.]\n",
      " [0. 0. 0.]]\n"
     ]
    }
   ],
   "source": [
    "# Python Programming illustrating \n",
    "# numpy.empty method \n",
    "  \n",
    "import numpy as np \n",
    "  \n",
    "b = np.empty(2, dtype = int) \n",
    "print(\"Matrix b : \\n\", b) \n",
    "  \n",
    "a = np.empty([2, 2], dtype = int) \n",
    "print(\"\\nMatrix a : \\n\", a) \n",
    "  \n",
    "c = np.empty([3, 3]) \n",
    "print(\"\\nMatrix c : \\n\", c) "
   ]
  },
  {
   "cell_type": "markdown",
   "metadata": {},
   "source": [
    "# numpy.ones()"
   ]
  },
  {
   "cell_type": "code",
   "execution_count": 21,
   "metadata": {},
   "outputs": [
    {
     "name": "stdout",
     "output_type": "stream",
     "text": [
      "Matrix b : \n",
      " [1 1]\n",
      "\n",
      "Matrix a : \n",
      " [[1 1]\n",
      " [1 1]]\n",
      "\n",
      "Matrix c : \n",
      " [[1. 1. 1.]\n",
      " [1. 1. 1.]\n",
      " [1. 1. 1.]]\n"
     ]
    }
   ],
   "source": [
    "# numpy.ones method \n",
    "  \n",
    "import numpy as np\n",
    "  \n",
    "b = np.ones(2, dtype = int) \n",
    "print(\"Matrix b : \\n\", b) \n",
    "  \n",
    "a = np.ones([2, 2], dtype = int) \n",
    "print(\"\\nMatrix a : \\n\", a) \n",
    "  \n",
    "c = np.ones([3, 3]) \n",
    "print(\"\\nMatrix c : \\n\", c) "
   ]
  },
  {
   "cell_type": "markdown",
   "metadata": {},
   "source": [
    "# numpy.eye()"
   ]
  },
  {
   "cell_type": "code",
   "execution_count": 22,
   "metadata": {},
   "outputs": [
    {
     "name": "stdout",
     "output_type": "stream",
     "text": [
      "Matrix b : \n",
      " [[1. 0.]\n",
      " [0. 1.]]\n",
      "\n",
      "Matrix a : \n",
      " [[0. 0. 0. 0. 0.]\n",
      " [1. 0. 0. 0. 0.]\n",
      " [0. 1. 0. 0. 0.]\n",
      " [0. 0. 1. 0. 0.]]\n"
     ]
    }
   ],
   "source": [
    "import numpy as np \n",
    "  \n",
    "# 2x2 matrix with 1's on main diagnol \n",
    "b = np.eye(2, dtype = float) \n",
    "print(\"Matrix b : \\n\", b) \n",
    "  \n",
    "# matrix with R=4 C=5 and 1 on diagnol \n",
    "# below main diagnol \n",
    "a = np.eye(4, 5, k = -1) \n",
    "print(\"\\nMatrix a : \\n\", a)"
   ]
  },
  {
   "cell_type": "markdown",
   "metadata": {},
   "source": [
    "# numpy.identity() in Python"
   ]
  },
  {
   "cell_type": "code",
   "execution_count": 23,
   "metadata": {},
   "outputs": [
    {
     "name": "stdout",
     "output_type": "stream",
     "text": [
      "Matrix b : \n",
      " [[1. 0.]\n",
      " [0. 1.]]\n",
      "\n",
      "Matrix a : \n",
      " [[1. 0. 0. 0.]\n",
      " [0. 1. 0. 0.]\n",
      " [0. 0. 1. 0.]\n",
      " [0. 0. 0. 1.]]\n"
     ]
    }
   ],
   "source": [
    "import numpy as np \n",
    "  \n",
    "# 2x2 matrix with 1's on main diagnol \n",
    "b = np.identity(2, dtype = float) \n",
    "print(\"Matrix b : \\n\", b) \n",
    "  \n",
    "  \n",
    "a = np.identity(4) \n",
    "print(\"\\nMatrix a : \\n\", a) "
   ]
  },
  {
   "cell_type": "markdown",
   "metadata": {},
   "source": [
    "# NumPy data types"
   ]
  },
  {
   "cell_type": "code",
   "execution_count": 24,
   "metadata": {},
   "outputs": [
    {
     "name": "stdout",
     "output_type": "stream",
     "text": [
      "int32\n"
     ]
    }
   ],
   "source": [
    "arr = np.array([1, 2, 3, 4, 5])\n",
    "print(arr.dtype)"
   ]
  },
  {
   "cell_type": "code",
   "execution_count": 25,
   "metadata": {},
   "outputs": [
    {
     "name": "stdout",
     "output_type": "stream",
     "text": [
      "float64\n"
     ]
    }
   ],
   "source": [
    "float_arr = arr.astype(np.float64)\n",
    "print(float_arr.dtype)"
   ]
  },
  {
   "cell_type": "code",
   "execution_count": 26,
   "metadata": {},
   "outputs": [
    {
     "name": "stdout",
     "output_type": "stream",
     "text": [
      "[ 3.7 -1.2 -2.6  0.5 12.9 10.1]\n"
     ]
    }
   ],
   "source": [
    "arr = np.array([3.7, -1.2, -2.6, 0.5, 12.9, 10.1])\n",
    "arr.astype(np.int32)\n",
    "print(arr)"
   ]
  },
  {
   "cell_type": "markdown",
   "metadata": {},
   "source": [
    "# Arithmetic with NumPy Arrays"
   ]
  },
  {
   "cell_type": "code",
   "execution_count": 27,
   "metadata": {},
   "outputs": [
    {
     "name": "stdout",
     "output_type": "stream",
     "text": [
      "[[1. 2. 3.]\n",
      " [4. 5. 6.]]\n"
     ]
    }
   ],
   "source": [
    "arr = np.array([[1., 2., 3.], [4., 5., 6.]])\n",
    "print(arr)"
   ]
  },
  {
   "cell_type": "code",
   "execution_count": 28,
   "metadata": {},
   "outputs": [
    {
     "name": "stdout",
     "output_type": "stream",
     "text": [
      "[[ 1.  4.  9.]\n",
      " [16. 25. 36.]]\n"
     ]
    }
   ],
   "source": [
    "print(arr * arr)"
   ]
  },
  {
   "cell_type": "code",
   "execution_count": 29,
   "metadata": {},
   "outputs": [
    {
     "name": "stdout",
     "output_type": "stream",
     "text": [
      "[[0. 0. 0.]\n",
      " [0. 0. 0.]]\n"
     ]
    }
   ],
   "source": [
    "print(arr - arr)"
   ]
  },
  {
   "cell_type": "code",
   "execution_count": 30,
   "metadata": {},
   "outputs": [
    {
     "name": "stdout",
     "output_type": "stream",
     "text": [
      "[[1.         0.5        0.33333333]\n",
      " [0.25       0.2        0.16666667]]\n"
     ]
    }
   ],
   "source": [
    "print(1 / arr)"
   ]
  },
  {
   "cell_type": "code",
   "execution_count": 31,
   "metadata": {},
   "outputs": [
    {
     "name": "stdout",
     "output_type": "stream",
     "text": [
      "[[1.         1.41421356 1.73205081]\n",
      " [2.         2.23606798 2.44948974]]\n"
     ]
    }
   ],
   "source": [
    "print(arr ** 0.5)"
   ]
  },
  {
   "cell_type": "code",
   "execution_count": 32,
   "metadata": {},
   "outputs": [
    {
     "name": "stdout",
     "output_type": "stream",
     "text": [
      "[[ 0.  4.  1.]\n",
      " [ 7.  2. 12.]]\n"
     ]
    }
   ],
   "source": [
    "arr2 = np.array([[0., 4., 1.], [7., 2., 12.]])\n",
    "print(arr2)"
   ]
  },
  {
   "cell_type": "code",
   "execution_count": 33,
   "metadata": {},
   "outputs": [
    {
     "name": "stdout",
     "output_type": "stream",
     "text": [
      "[[False  True False]\n",
      " [ True False  True]]\n"
     ]
    }
   ],
   "source": [
    "print( arr2 > arr)"
   ]
  },
  {
   "cell_type": "code",
   "execution_count": 34,
   "metadata": {},
   "outputs": [
    {
     "name": "stdout",
     "output_type": "stream",
     "text": [
      "[[ True False  True]\n",
      " [False  True False]]\n"
     ]
    }
   ],
   "source": [
    "print(arr > arr2)"
   ]
  },
  {
   "cell_type": "markdown",
   "metadata": {},
   "source": [
    "# Basic Indexing and Slicing"
   ]
  },
  {
   "cell_type": "code",
   "execution_count": 35,
   "metadata": {},
   "outputs": [
    {
     "name": "stdout",
     "output_type": "stream",
     "text": [
      "[0 1 2 3 4 5 6 7 8 9]\n",
      "5\n",
      "[5 6 7]\n",
      "[ 0  1  2  3  4 12 12 12  8  9]\n"
     ]
    }
   ],
   "source": [
    " arr = np.arange(10)\n",
    "print(arr)\n",
    "print(arr[5])\n",
    "print(arr[5:8])\n",
    "arr[5:8] = 12\n",
    "print(arr)\n"
   ]
  },
  {
   "cell_type": "code",
   "execution_count": 36,
   "metadata": {},
   "outputs": [
    {
     "name": "stdout",
     "output_type": "stream",
     "text": [
      "[12 12 12]\n"
     ]
    }
   ],
   "source": [
    "arr_slice = arr[5:8]\n",
    "print(arr_slice)"
   ]
  },
  {
   "cell_type": "markdown",
   "metadata": {},
   "source": [
    "Now, when I change values in arr_slice, the mutations are reflected in the original array arr:"
   ]
  },
  {
   "cell_type": "code",
   "execution_count": 37,
   "metadata": {},
   "outputs": [
    {
     "name": "stdout",
     "output_type": "stream",
     "text": [
      "[   12 12345    12]\n"
     ]
    }
   ],
   "source": [
    "arr_slice[1] = 12345\n",
    "print(arr_slice)"
   ]
  },
  {
   "cell_type": "code",
   "execution_count": 38,
   "metadata": {},
   "outputs": [
    {
     "name": "stdout",
     "output_type": "stream",
     "text": [
      "[    0     1     2     3     4    12 12345    12     8     9]\n"
     ]
    }
   ],
   "source": [
    " print(arr)"
   ]
  },
  {
   "cell_type": "code",
   "execution_count": 39,
   "metadata": {},
   "outputs": [
    {
     "name": "stdout",
     "output_type": "stream",
     "text": [
      "[ 0  1  2  3  4 64 64 64  8  9]\n"
     ]
    }
   ],
   "source": [
    " arr_slice[:] = 64\n",
    "print(arr)"
   ]
  },
  {
   "cell_type": "code",
   "execution_count": 40,
   "metadata": {},
   "outputs": [
    {
     "name": "stdout",
     "output_type": "stream",
     "text": [
      "[7 8 9]\n"
     ]
    }
   ],
   "source": [
    "arr2d = np.array([[1, 2, 3], [4, 5, 6], [7, 8, 9]])\n",
    "print(arr2d[2])"
   ]
  },
  {
   "cell_type": "code",
   "execution_count": 41,
   "metadata": {},
   "outputs": [
    {
     "data": {
      "text/plain": [
       "3"
      ]
     },
     "execution_count": 41,
     "metadata": {},
     "output_type": "execute_result"
    }
   ],
   "source": [
    "arr2d[0][2]"
   ]
  },
  {
   "cell_type": "code",
   "execution_count": 42,
   "metadata": {},
   "outputs": [
    {
     "data": {
      "text/plain": [
       "3"
      ]
     },
     "execution_count": 42,
     "metadata": {},
     "output_type": "execute_result"
    }
   ],
   "source": [
    " arr2d[0, 2]"
   ]
  },
  {
   "cell_type": "code",
   "execution_count": 43,
   "metadata": {},
   "outputs": [
    {
     "name": "stdout",
     "output_type": "stream",
     "text": [
      "[[[ 1  2  3]\n",
      "  [ 4  5  6]]\n",
      "\n",
      " [[ 7  8  9]\n",
      "  [10 11 12]]]\n"
     ]
    }
   ],
   "source": [
    "arr3d = np.array([[[1, 2, 3], [4, 5, 6]], [[7, 8, 9], [10, 11, 12]]])\n",
    "print(arr3d)"
   ]
  },
  {
   "cell_type": "code",
   "execution_count": 44,
   "metadata": {},
   "outputs": [
    {
     "data": {
      "text/plain": [
       "(2, 2, 3)"
      ]
     },
     "execution_count": 44,
     "metadata": {},
     "output_type": "execute_result"
    }
   ],
   "source": [
    "arr3d.shape"
   ]
  },
  {
   "cell_type": "code",
   "execution_count": 45,
   "metadata": {},
   "outputs": [
    {
     "data": {
      "text/plain": [
       "3"
      ]
     },
     "execution_count": 45,
     "metadata": {},
     "output_type": "execute_result"
    }
   ],
   "source": [
    "arr3d.ndim"
   ]
  },
  {
   "cell_type": "code",
   "execution_count": 46,
   "metadata": {},
   "outputs": [
    {
     "name": "stdout",
     "output_type": "stream",
     "text": [
      "[[1 2 3]\n",
      " [4 5 6]]\n"
     ]
    }
   ],
   "source": [
    "print(arr3d[0])"
   ]
  },
  {
   "cell_type": "code",
   "execution_count": 47,
   "metadata": {},
   "outputs": [
    {
     "name": "stdout",
     "output_type": "stream",
     "text": [
      "[[[42 42 42]\n",
      "  [42 42 42]]\n",
      "\n",
      " [[ 7  8  9]\n",
      "  [10 11 12]]]\n"
     ]
    }
   ],
   "source": [
    "old_values = arr3d[0].copy()\n",
    "arr3d[0] = 42\n",
    "print(arr3d)"
   ]
  },
  {
   "cell_type": "code",
   "execution_count": 48,
   "metadata": {},
   "outputs": [
    {
     "name": "stdout",
     "output_type": "stream",
     "text": [
      "[[[ 1  2  3]\n",
      "  [ 4  5  6]]\n",
      "\n",
      " [[ 7  8  9]\n",
      "  [10 11 12]]]\n"
     ]
    }
   ],
   "source": [
    "arr3d[0] = old_values\n",
    "print(arr3d)"
   ]
  },
  {
   "cell_type": "code",
   "execution_count": 49,
   "metadata": {},
   "outputs": [
    {
     "data": {
      "text/plain": [
       "array([7, 8, 9])"
      ]
     },
     "execution_count": 49,
     "metadata": {},
     "output_type": "execute_result"
    }
   ],
   "source": [
    " arr3d[1, 0]"
   ]
  },
  {
   "cell_type": "code",
   "execution_count": 50,
   "metadata": {},
   "outputs": [
    {
     "name": "stdout",
     "output_type": "stream",
     "text": [
      "[[ 7  8  9]\n",
      " [10 11 12]]\n"
     ]
    }
   ],
   "source": [
    "x = arr3d[1]\n",
    "print(x)"
   ]
  },
  {
   "cell_type": "code",
   "execution_count": 51,
   "metadata": {},
   "outputs": [
    {
     "data": {
      "text/plain": [
       "array([7, 8, 9])"
      ]
     },
     "execution_count": 51,
     "metadata": {},
     "output_type": "execute_result"
    }
   ],
   "source": [
    "x[0]"
   ]
  },
  {
   "cell_type": "markdown",
   "metadata": {},
   "source": [
    "# Indexing with slices"
   ]
  },
  {
   "cell_type": "code",
   "execution_count": 52,
   "metadata": {},
   "outputs": [],
   "source": [
    "arr = np.array([ 0, 1, 2, 3, 4, 64, 64, 64, 8, 9])"
   ]
  },
  {
   "cell_type": "code",
   "execution_count": 53,
   "metadata": {},
   "outputs": [
    {
     "data": {
      "text/plain": [
       "array([ 1,  2,  3,  4, 64])"
      ]
     },
     "execution_count": 53,
     "metadata": {},
     "output_type": "execute_result"
    }
   ],
   "source": [
    "arr[1:6]"
   ]
  },
  {
   "cell_type": "code",
   "execution_count": 54,
   "metadata": {},
   "outputs": [
    {
     "data": {
      "text/plain": [
       "array([[1, 2, 3],\n",
       "       [4, 5, 6],\n",
       "       [7, 8, 9]])"
      ]
     },
     "execution_count": 54,
     "metadata": {},
     "output_type": "execute_result"
    }
   ],
   "source": [
    "arr2d"
   ]
  },
  {
   "cell_type": "code",
   "execution_count": 55,
   "metadata": {},
   "outputs": [
    {
     "data": {
      "text/plain": [
       "array([[1, 2, 3],\n",
       "       [4, 5, 6]])"
      ]
     },
     "execution_count": 55,
     "metadata": {},
     "output_type": "execute_result"
    }
   ],
   "source": [
    "arr2d[:2]"
   ]
  },
  {
   "cell_type": "code",
   "execution_count": 56,
   "metadata": {},
   "outputs": [
    {
     "data": {
      "text/plain": [
       "array([[2, 3],\n",
       "       [5, 6]])"
      ]
     },
     "execution_count": 56,
     "metadata": {},
     "output_type": "execute_result"
    }
   ],
   "source": [
    "arr2d[:2, 1:]"
   ]
  },
  {
   "cell_type": "code",
   "execution_count": 57,
   "metadata": {},
   "outputs": [
    {
     "data": {
      "text/plain": [
       "array([4, 5])"
      ]
     },
     "execution_count": 57,
     "metadata": {},
     "output_type": "execute_result"
    }
   ],
   "source": [
    "arr2d[1, :2]"
   ]
  },
  {
   "cell_type": "code",
   "execution_count": 58,
   "metadata": {},
   "outputs": [
    {
     "data": {
      "text/plain": [
       "array([[1],\n",
       "       [4],\n",
       "       [7]])"
      ]
     },
     "execution_count": 58,
     "metadata": {},
     "output_type": "execute_result"
    }
   ],
   "source": [
    "arr2d[:, :1]"
   ]
  },
  {
   "cell_type": "code",
   "execution_count": 59,
   "metadata": {},
   "outputs": [],
   "source": [
    " arr2d[:2, 1:] = 0"
   ]
  },
  {
   "cell_type": "code",
   "execution_count": 60,
   "metadata": {},
   "outputs": [
    {
     "data": {
      "text/plain": [
       "array([[1, 0, 0],\n",
       "       [4, 0, 0],\n",
       "       [7, 8, 9]])"
      ]
     },
     "execution_count": 60,
     "metadata": {},
     "output_type": "execute_result"
    }
   ],
   "source": [
    "arr2d"
   ]
  },
  {
   "cell_type": "markdown",
   "metadata": {},
   "source": [
    "# Boolean Indexing"
   ]
  },
  {
   "cell_type": "code",
   "execution_count": 61,
   "metadata": {},
   "outputs": [],
   "source": [
    "names = np.array(['Bob', 'Joe', 'Will', 'Bob', 'Will', 'Joe', 'Joe'])\n",
    "data = np.random.randn(7, 4)"
   ]
  },
  {
   "cell_type": "code",
   "execution_count": 62,
   "metadata": {},
   "outputs": [
    {
     "data": {
      "text/plain": [
       "array(['Bob', 'Joe', 'Will', 'Bob', 'Will', 'Joe', 'Joe'], dtype='<U4')"
      ]
     },
     "execution_count": 62,
     "metadata": {},
     "output_type": "execute_result"
    }
   ],
   "source": [
    "names"
   ]
  },
  {
   "cell_type": "code",
   "execution_count": 63,
   "metadata": {},
   "outputs": [
    {
     "data": {
      "text/plain": [
       "array([[-0.08774042,  1.37997841,  0.50664524, -0.02554547],\n",
       "       [ 0.08476618, -0.33386197, -0.92602617, -0.11427901],\n",
       "       [ 0.94329292, -1.04905211, -0.21951467, -0.04858503],\n",
       "       [ 0.17757912,  1.2114927 ,  1.12016855,  0.18505731],\n",
       "       [ 2.12477612,  0.49703848,  0.39375899,  1.23850231],\n",
       "       [ 0.31732413, -0.75535458,  0.36194123, -0.58216024],\n",
       "       [-1.93996177,  1.97221378,  0.62397917, -0.64372841]])"
      ]
     },
     "execution_count": 63,
     "metadata": {},
     "output_type": "execute_result"
    }
   ],
   "source": [
    "data"
   ]
  },
  {
   "cell_type": "code",
   "execution_count": 64,
   "metadata": {},
   "outputs": [
    {
     "data": {
      "text/plain": [
       "array([ True, False, False,  True, False, False, False])"
      ]
     },
     "execution_count": 64,
     "metadata": {},
     "output_type": "execute_result"
    }
   ],
   "source": [
    "names == 'Bob'"
   ]
  },
  {
   "cell_type": "code",
   "execution_count": 65,
   "metadata": {},
   "outputs": [
    {
     "data": {
      "text/plain": [
       "array([[-0.08774042,  1.37997841,  0.50664524, -0.02554547],\n",
       "       [ 0.17757912,  1.2114927 ,  1.12016855,  0.18505731]])"
      ]
     },
     "execution_count": 65,
     "metadata": {},
     "output_type": "execute_result"
    }
   ],
   "source": [
    "data[names == 'Bob']"
   ]
  },
  {
   "cell_type": "code",
   "execution_count": 66,
   "metadata": {},
   "outputs": [
    {
     "data": {
      "text/plain": [
       "array([[ 0.50664524, -0.02554547],\n",
       "       [ 1.12016855,  0.18505731]])"
      ]
     },
     "execution_count": 66,
     "metadata": {},
     "output_type": "execute_result"
    }
   ],
   "source": [
    "data[names == 'Bob', 2:]"
   ]
  },
  {
   "cell_type": "code",
   "execution_count": 67,
   "metadata": {},
   "outputs": [
    {
     "name": "stdout",
     "output_type": "stream",
     "text": [
      "[-0.02554547  0.18505731]\n"
     ]
    }
   ],
   "source": [
    "print(data[names == 'Bob', 3])"
   ]
  },
  {
   "cell_type": "code",
   "execution_count": 68,
   "metadata": {},
   "outputs": [
    {
     "data": {
      "text/plain": [
       "array([False,  True,  True, False,  True,  True,  True])"
      ]
     },
     "execution_count": 68,
     "metadata": {},
     "output_type": "execute_result"
    }
   ],
   "source": [
    "names != 'Bob'"
   ]
  },
  {
   "cell_type": "code",
   "execution_count": 69,
   "metadata": {},
   "outputs": [
    {
     "data": {
      "text/plain": [
       "array([[ 0.08476618, -0.33386197, -0.92602617, -0.11427901],\n",
       "       [ 0.94329292, -1.04905211, -0.21951467, -0.04858503],\n",
       "       [ 2.12477612,  0.49703848,  0.39375899,  1.23850231],\n",
       "       [ 0.31732413, -0.75535458,  0.36194123, -0.58216024],\n",
       "       [-1.93996177,  1.97221378,  0.62397917, -0.64372841]])"
      ]
     },
     "execution_count": 69,
     "metadata": {},
     "output_type": "execute_result"
    }
   ],
   "source": [
    "data[~(names == 'Bob')]"
   ]
  },
  {
   "cell_type": "code",
   "execution_count": 70,
   "metadata": {},
   "outputs": [
    {
     "data": {
      "text/plain": [
       "array([ True, False, False,  True, False, False, False])"
      ]
     },
     "execution_count": 70,
     "metadata": {},
     "output_type": "execute_result"
    }
   ],
   "source": [
    "cond = names == 'Bob'\n",
    "cond"
   ]
  },
  {
   "cell_type": "code",
   "execution_count": 71,
   "metadata": {},
   "outputs": [
    {
     "data": {
      "text/plain": [
       "array([[ 0.08476618, -0.33386197, -0.92602617, -0.11427901],\n",
       "       [ 0.94329292, -1.04905211, -0.21951467, -0.04858503],\n",
       "       [ 2.12477612,  0.49703848,  0.39375899,  1.23850231],\n",
       "       [ 0.31732413, -0.75535458,  0.36194123, -0.58216024],\n",
       "       [-1.93996177,  1.97221378,  0.62397917, -0.64372841]])"
      ]
     },
     "execution_count": 71,
     "metadata": {},
     "output_type": "execute_result"
    }
   ],
   "source": [
    "data[~cond]"
   ]
  },
  {
   "cell_type": "code",
   "execution_count": 72,
   "metadata": {},
   "outputs": [
    {
     "data": {
      "text/plain": [
       "array([ True, False,  True,  True,  True, False, False])"
      ]
     },
     "execution_count": 72,
     "metadata": {},
     "output_type": "execute_result"
    }
   ],
   "source": [
    "mask = (names == 'Bob') | (names == 'Will')\n",
    "mask"
   ]
  },
  {
   "cell_type": "code",
   "execution_count": 73,
   "metadata": {},
   "outputs": [
    {
     "data": {
      "text/plain": [
       "array([[-0.08774042,  1.37997841,  0.50664524, -0.02554547],\n",
       "       [ 0.94329292, -1.04905211, -0.21951467, -0.04858503],\n",
       "       [ 0.17757912,  1.2114927 ,  1.12016855,  0.18505731],\n",
       "       [ 2.12477612,  0.49703848,  0.39375899,  1.23850231]])"
      ]
     },
     "execution_count": 73,
     "metadata": {},
     "output_type": "execute_result"
    }
   ],
   "source": [
    "data[mask]"
   ]
  },
  {
   "cell_type": "code",
   "execution_count": 74,
   "metadata": {},
   "outputs": [
    {
     "data": {
      "text/plain": [
       "array([-0.08774042, -0.02554547, -0.33386197, -0.92602617, -0.11427901,\n",
       "       -1.04905211, -0.21951467, -0.04858503, -0.75535458, -0.58216024,\n",
       "       -1.93996177, -0.64372841])"
      ]
     },
     "execution_count": 74,
     "metadata": {},
     "output_type": "execute_result"
    }
   ],
   "source": [
    "data[data < 0]"
   ]
  },
  {
   "cell_type": "code",
   "execution_count": 75,
   "metadata": {},
   "outputs": [
    {
     "name": "stdout",
     "output_type": "stream",
     "text": [
      "[[0.         1.37997841 0.50664524 0.        ]\n",
      " [0.08476618 0.         0.         0.        ]\n",
      " [0.94329292 0.         0.         0.        ]\n",
      " [0.17757912 1.2114927  1.12016855 0.18505731]\n",
      " [2.12477612 0.49703848 0.39375899 1.23850231]\n",
      " [0.31732413 0.         0.36194123 0.        ]\n",
      " [0.         1.97221378 0.62397917 0.        ]]\n"
     ]
    }
   ],
   "source": [
    "data[data < 0] = 0\n",
    "print(data)"
   ]
  },
  {
   "cell_type": "code",
   "execution_count": 76,
   "metadata": {},
   "outputs": [
    {
     "data": {
      "text/plain": [
       "array([[7.        , 7.        , 7.        , 7.        ],\n",
       "       [0.08476618, 0.        , 0.        , 0.        ],\n",
       "       [7.        , 7.        , 7.        , 7.        ],\n",
       "       [7.        , 7.        , 7.        , 7.        ],\n",
       "       [7.        , 7.        , 7.        , 7.        ],\n",
       "       [0.31732413, 0.        , 0.36194123, 0.        ],\n",
       "       [0.        , 1.97221378, 0.62397917, 0.        ]])"
      ]
     },
     "execution_count": 76,
     "metadata": {},
     "output_type": "execute_result"
    }
   ],
   "source": [
    "data[names != 'Joe'] = 7\n",
    "data"
   ]
  },
  {
   "cell_type": "markdown",
   "metadata": {},
   "source": [
    "# Fancy Indexing"
   ]
  },
  {
   "cell_type": "code",
   "execution_count": 77,
   "metadata": {},
   "outputs": [
    {
     "data": {
      "text/plain": [
       "array([[0., 0., 0., 0.],\n",
       "       [1., 1., 1., 1.],\n",
       "       [2., 2., 2., 2.],\n",
       "       [3., 3., 3., 3.],\n",
       "       [4., 4., 4., 4.],\n",
       "       [5., 5., 5., 5.],\n",
       "       [6., 6., 6., 6.],\n",
       "       [7., 7., 7., 7.]])"
      ]
     },
     "execution_count": 77,
     "metadata": {},
     "output_type": "execute_result"
    }
   ],
   "source": [
    "arr = np.empty((8, 4))\n",
    "for i in range(8):\n",
    "        arr[i] = i\n",
    "\n",
    "arr        "
   ]
  },
  {
   "cell_type": "code",
   "execution_count": 78,
   "metadata": {},
   "outputs": [
    {
     "data": {
      "text/plain": [
       "array([[4., 4., 4., 4.],\n",
       "       [3., 3., 3., 3.],\n",
       "       [0., 0., 0., 0.],\n",
       "       [6., 6., 6., 6.]])"
      ]
     },
     "execution_count": 78,
     "metadata": {},
     "output_type": "execute_result"
    }
   ],
   "source": [
    " arr[[4, 3, 0, 6]]"
   ]
  },
  {
   "cell_type": "code",
   "execution_count": 79,
   "metadata": {},
   "outputs": [
    {
     "data": {
      "text/plain": [
       "array([[5., 5., 5., 5.],\n",
       "       [3., 3., 3., 3.],\n",
       "       [1., 1., 1., 1.]])"
      ]
     },
     "execution_count": 79,
     "metadata": {},
     "output_type": "execute_result"
    }
   ],
   "source": [
    " arr[[-3, -5, -7]]"
   ]
  },
  {
   "cell_type": "code",
   "execution_count": 80,
   "metadata": {},
   "outputs": [
    {
     "data": {
      "text/plain": [
       "array([[ 0,  1,  2,  3],\n",
       "       [ 4,  5,  6,  7],\n",
       "       [ 8,  9, 10, 11],\n",
       "       [12, 13, 14, 15],\n",
       "       [16, 17, 18, 19],\n",
       "       [20, 21, 22, 23],\n",
       "       [24, 25, 26, 27],\n",
       "       [28, 29, 30, 31]])"
      ]
     },
     "execution_count": 80,
     "metadata": {},
     "output_type": "execute_result"
    }
   ],
   "source": [
    "arr = np.arange(32).reshape((8, 4))\n",
    "arr"
   ]
  },
  {
   "cell_type": "code",
   "execution_count": 81,
   "metadata": {},
   "outputs": [
    {
     "data": {
      "text/plain": [
       "array([ 4, 23, 29, 10])"
      ]
     },
     "execution_count": 81,
     "metadata": {},
     "output_type": "execute_result"
    }
   ],
   "source": [
    "arr[[1, 5, 7, 2], [0, 3, 1, 2]]"
   ]
  },
  {
   "cell_type": "code",
   "execution_count": 82,
   "metadata": {},
   "outputs": [
    {
     "data": {
      "text/plain": [
       "array([[ 4,  7,  5,  6],\n",
       "       [20, 23, 21, 22],\n",
       "       [28, 31, 29, 30],\n",
       "       [ 8, 11,  9, 10]])"
      ]
     },
     "execution_count": 82,
     "metadata": {},
     "output_type": "execute_result"
    }
   ],
   "source": [
    " arr[[1, 5, 7, 2]][:, [0, 3, 1, 2]]"
   ]
  },
  {
   "cell_type": "markdown",
   "metadata": {},
   "source": [
    "# Transposing Arrays and Swapping Axes"
   ]
  },
  {
   "cell_type": "code",
   "execution_count": 83,
   "metadata": {},
   "outputs": [
    {
     "data": {
      "text/plain": [
       "array([[ 0,  1,  2,  3,  4],\n",
       "       [ 5,  6,  7,  8,  9],\n",
       "       [10, 11, 12, 13, 14]])"
      ]
     },
     "execution_count": 83,
     "metadata": {},
     "output_type": "execute_result"
    }
   ],
   "source": [
    "arr = np.arange(15).reshape((3, 5))\n",
    "arr"
   ]
  },
  {
   "cell_type": "code",
   "execution_count": 84,
   "metadata": {},
   "outputs": [
    {
     "data": {
      "text/plain": [
       "array([[ 0,  5, 10],\n",
       "       [ 1,  6, 11],\n",
       "       [ 2,  7, 12],\n",
       "       [ 3,  8, 13],\n",
       "       [ 4,  9, 14]])"
      ]
     },
     "execution_count": 84,
     "metadata": {},
     "output_type": "execute_result"
    }
   ],
   "source": [
    "arr.T"
   ]
  },
  {
   "cell_type": "code",
   "execution_count": 86,
   "metadata": {},
   "outputs": [
    {
     "name": "stdout",
     "output_type": "stream",
     "text": [
      "[[1 4]\n",
      " [5 6]]\n",
      "\n",
      "[[2 4]\n",
      " [5 2]]\n"
     ]
    }
   ],
   "source": [
    "vector_a = np.array([[1, 4], [5, 6]]) \n",
    "vector_b = np.array([[2, 4], [5, 2]])\n",
    "print(vector_a)\n",
    "print()\n",
    "print(vector_b)"
   ]
  },
  {
   "cell_type": "code",
   "execution_count": 87,
   "metadata": {},
   "outputs": [
    {
     "name": "stdout",
     "output_type": "stream",
     "text": [
      "Dot Product  : \n",
      " [[22 12]\n",
      " [40 32]]\n"
     ]
    }
   ],
   "source": [
    "product = np.dot(vector_a, vector_b) \n",
    "print(\"Dot Product  : \\n\", product) "
   ]
  },
  {
   "cell_type": "code",
   "execution_count": 91,
   "metadata": {},
   "outputs": [
    {
     "name": "stdout",
     "output_type": "stream",
     "text": [
      "Dot Product  : \n",
      " [[22 32]\n",
      " [15 32]]\n"
     ]
    }
   ],
   "source": [
    "product = np.dot(vector_b, vector_a) \n",
    "print(\"Dot Product  : \\n\", product) "
   ]
  },
  {
   "cell_type": "code",
   "execution_count": 89,
   "metadata": {},
   "outputs": [
    {
     "data": {
      "text/plain": [
       "array([[ 0.425598  ,  1.06618898, -0.31356363],\n",
       "       [ 0.67222141,  2.37823237, -1.42441381],\n",
       "       [-0.52613001, -0.22434971,  0.83397167],\n",
       "       [ 1.28489185, -0.27845588, -0.50908643],\n",
       "       [ 1.67293016, -0.70499151, -1.01458246],\n",
       "       [-0.97696425, -0.76801647, -0.36017751]])"
      ]
     },
     "execution_count": 89,
     "metadata": {},
     "output_type": "execute_result"
    }
   ],
   "source": [
    "arr = np.random.randn(6, 3)\n",
    "arr"
   ]
  },
  {
   "cell_type": "code",
   "execution_count": 94,
   "metadata": {},
   "outputs": [
    {
     "data": {
      "text/plain": [
       "array([[ 0.425598  ,  0.67222141, -0.52613001,  1.28489185,  1.67293016,\n",
       "        -0.97696425],\n",
       "       [ 1.06618898,  2.37823237, -0.22434971, -0.27845588, -0.70499151,\n",
       "        -0.76801647],\n",
       "       [-0.31356363, -1.42441381,  0.83397167, -0.50908643, -1.01458246,\n",
       "        -0.36017751]])"
      ]
     },
     "execution_count": 94,
     "metadata": {},
     "output_type": "execute_result"
    }
   ],
   "source": [
    "arr.T"
   ]
  },
  {
   "cell_type": "code",
   "execution_count": 90,
   "metadata": {},
   "outputs": [
    {
     "data": {
      "text/plain": [
       "array([[ 6.3139296 ,  1.38364112, -3.52931709],\n",
       "       [ 1.38364112,  8.00748096, -2.77535404],\n",
       "       [-3.52931709, -2.77535404,  4.24106001]])"
      ]
     },
     "execution_count": 90,
     "metadata": {},
     "output_type": "execute_result"
    }
   ],
   "source": [
    "np.dot(arr.T, arr)"
   ]
  },
  {
   "cell_type": "code",
   "execution_count": 95,
   "metadata": {},
   "outputs": [
    {
     "data": {
      "text/plain": [
       "array([[[ 0,  1,  2,  3],\n",
       "        [ 4,  5,  6,  7]],\n",
       "\n",
       "       [[ 8,  9, 10, 11],\n",
       "        [12, 13, 14, 15]]])"
      ]
     },
     "execution_count": 95,
     "metadata": {},
     "output_type": "execute_result"
    }
   ],
   "source": [
    "arr = np.arange(16).reshape((2, 2, 4))\n",
    "arr"
   ]
  },
  {
   "cell_type": "code",
   "execution_count": 96,
   "metadata": {},
   "outputs": [
    {
     "data": {
      "text/plain": [
       "array([[[ 0,  1,  2,  3],\n",
       "        [ 8,  9, 10, 11]],\n",
       "\n",
       "       [[ 4,  5,  6,  7],\n",
       "        [12, 13, 14, 15]]])"
      ]
     },
     "execution_count": 96,
     "metadata": {},
     "output_type": "execute_result"
    }
   ],
   "source": [
    "arr.transpose((1, 0, 2))"
   ]
  },
  {
   "cell_type": "code",
   "execution_count": 97,
   "metadata": {},
   "outputs": [
    {
     "data": {
      "text/plain": [
       "array([[[ 0,  1,  2,  3],\n",
       "        [ 4,  5,  6,  7]],\n",
       "\n",
       "       [[ 8,  9, 10, 11],\n",
       "        [12, 13, 14, 15]]])"
      ]
     },
     "execution_count": 97,
     "metadata": {},
     "output_type": "execute_result"
    }
   ],
   "source": [
    "arr.transpose((0, 1, 2))"
   ]
  },
  {
   "cell_type": "code",
   "execution_count": 99,
   "metadata": {},
   "outputs": [
    {
     "data": {
      "text/plain": [
       "array([[[ 0,  8],\n",
       "        [ 1,  9],\n",
       "        [ 2, 10],\n",
       "        [ 3, 11]],\n",
       "\n",
       "       [[ 4, 12],\n",
       "        [ 5, 13],\n",
       "        [ 6, 14],\n",
       "        [ 7, 15]]])"
      ]
     },
     "execution_count": 99,
     "metadata": {},
     "output_type": "execute_result"
    }
   ],
   "source": [
    "arr.transpose((1, 2, 0))"
   ]
  },
  {
   "cell_type": "code",
   "execution_count": 100,
   "metadata": {},
   "outputs": [
    {
     "data": {
      "text/plain": [
       "array([[[ 0,  8],\n",
       "        [ 4, 12]],\n",
       "\n",
       "       [[ 1,  9],\n",
       "        [ 5, 13]],\n",
       "\n",
       "       [[ 2, 10],\n",
       "        [ 6, 14]],\n",
       "\n",
       "       [[ 3, 11],\n",
       "        [ 7, 15]]])"
      ]
     },
     "execution_count": 100,
     "metadata": {},
     "output_type": "execute_result"
    }
   ],
   "source": [
    "arr.T"
   ]
  },
  {
   "cell_type": "code",
   "execution_count": 101,
   "metadata": {},
   "outputs": [
    {
     "data": {
      "text/plain": [
       "array([[[ 0,  8],\n",
       "        [ 4, 12]],\n",
       "\n",
       "       [[ 1,  9],\n",
       "        [ 5, 13]],\n",
       "\n",
       "       [[ 2, 10],\n",
       "        [ 6, 14]],\n",
       "\n",
       "       [[ 3, 11],\n",
       "        [ 7, 15]]])"
      ]
     },
     "execution_count": 101,
     "metadata": {},
     "output_type": "execute_result"
    }
   ],
   "source": [
    "arr.transpose()"
   ]
  },
  {
   "cell_type": "code",
   "execution_count": 102,
   "metadata": {},
   "outputs": [
    {
     "data": {
      "text/plain": [
       "array([[[ 0,  1,  2,  3],\n",
       "        [ 4,  5,  6,  7]],\n",
       "\n",
       "       [[ 8,  9, 10, 11],\n",
       "        [12, 13, 14, 15]]])"
      ]
     },
     "execution_count": 102,
     "metadata": {},
     "output_type": "execute_result"
    }
   ],
   "source": [
    "arr"
   ]
  },
  {
   "cell_type": "code",
   "execution_count": 105,
   "metadata": {},
   "outputs": [
    {
     "data": {
      "text/plain": [
       "array([[[ 0,  4],\n",
       "        [ 1,  5],\n",
       "        [ 2,  6],\n",
       "        [ 3,  7]],\n",
       "\n",
       "       [[ 8, 12],\n",
       "        [ 9, 13],\n",
       "        [10, 14],\n",
       "        [11, 15]]])"
      ]
     },
     "execution_count": 105,
     "metadata": {},
     "output_type": "execute_result"
    }
   ],
   "source": [
    "arr.swapaxes(2, 1)"
   ]
  },
  {
   "cell_type": "markdown",
   "metadata": {},
   "source": [
    "# Universal Functions: Fast Element-Wise Array Functions"
   ]
  },
  {
   "cell_type": "code",
   "execution_count": 106,
   "metadata": {},
   "outputs": [
    {
     "data": {
      "text/plain": [
       "array([0, 1, 2, 3, 4, 5, 6, 7, 8, 9])"
      ]
     },
     "execution_count": 106,
     "metadata": {},
     "output_type": "execute_result"
    }
   ],
   "source": [
    "arr = np.arange(10)\n",
    "arr"
   ]
  },
  {
   "cell_type": "code",
   "execution_count": 107,
   "metadata": {},
   "outputs": [
    {
     "data": {
      "text/plain": [
       "array([0.        , 1.        , 1.41421356, 1.73205081, 2.        ,\n",
       "       2.23606798, 2.44948974, 2.64575131, 2.82842712, 3.        ])"
      ]
     },
     "execution_count": 107,
     "metadata": {},
     "output_type": "execute_result"
    }
   ],
   "source": [
    "np.sqrt(arr)"
   ]
  },
  {
   "cell_type": "code",
   "execution_count": 108,
   "metadata": {},
   "outputs": [
    {
     "data": {
      "text/plain": [
       "array([1.00000000e+00, 2.71828183e+00, 7.38905610e+00, 2.00855369e+01,\n",
       "       5.45981500e+01, 1.48413159e+02, 4.03428793e+02, 1.09663316e+03,\n",
       "       2.98095799e+03, 8.10308393e+03])"
      ]
     },
     "execution_count": 108,
     "metadata": {},
     "output_type": "execute_result"
    }
   ],
   "source": [
    "np.exp(arr)"
   ]
  },
  {
   "cell_type": "code",
   "execution_count": 109,
   "metadata": {},
   "outputs": [
    {
     "data": {
      "text/plain": [
       "array([ 0.68960127,  0.23837122,  0.10774672, -0.00880207, -0.82137665,\n",
       "       -0.26208844, -0.96299877, -0.34904811])"
      ]
     },
     "execution_count": 109,
     "metadata": {},
     "output_type": "execute_result"
    }
   ],
   "source": [
    "x = np.random.randn(8)\n",
    "x"
   ]
  },
  {
   "cell_type": "code",
   "execution_count": 110,
   "metadata": {},
   "outputs": [
    {
     "data": {
      "text/plain": [
       "array([ 0.06433996,  0.32279815, -1.079718  ,  1.57572519, -0.39062882,\n",
       "        0.7547646 ,  0.83140966,  0.07889216])"
      ]
     },
     "execution_count": 110,
     "metadata": {},
     "output_type": "execute_result"
    }
   ],
   "source": [
    "y = np.random.randn(8)\n",
    "y"
   ]
  },
  {
   "cell_type": "code",
   "execution_count": 111,
   "metadata": {},
   "outputs": [
    {
     "data": {
      "text/plain": [
       "array([ 0.68960127,  0.32279815,  0.10774672,  1.57572519, -0.39062882,\n",
       "        0.7547646 ,  0.83140966,  0.07889216])"
      ]
     },
     "execution_count": 111,
     "metadata": {},
     "output_type": "execute_result"
    }
   ],
   "source": [
    "np.maximum(x, y)"
   ]
  },
  {
   "cell_type": "code",
   "execution_count": 134,
   "metadata": {},
   "outputs": [
    {
     "data": {
      "text/plain": [
       "array([-5.37905959,  7.62232905,  3.45679937, -0.78534743, -7.15202556,\n",
       "       11.29816451, -4.77667607])"
      ]
     },
     "execution_count": 134,
     "metadata": {},
     "output_type": "execute_result"
    }
   ],
   "source": [
    "arr = np.random.randn(7) * 5\n",
    "arr"
   ]
  },
  {
   "cell_type": "code",
   "execution_count": 135,
   "metadata": {},
   "outputs": [],
   "source": [
    "remainder, whole_part = np.modf(arr)"
   ]
  },
  {
   "cell_type": "code",
   "execution_count": 136,
   "metadata": {},
   "outputs": [
    {
     "data": {
      "text/plain": [
       "array([-0.37905959,  0.62232905,  0.45679937, -0.78534743, -0.15202556,\n",
       "        0.29816451, -0.77667607])"
      ]
     },
     "execution_count": 136,
     "metadata": {},
     "output_type": "execute_result"
    }
   ],
   "source": [
    "remainder"
   ]
  },
  {
   "cell_type": "code",
   "execution_count": 137,
   "metadata": {},
   "outputs": [
    {
     "data": {
      "text/plain": [
       "array([-5.,  7.,  3., -0., -7., 11., -4.])"
      ]
     },
     "execution_count": 137,
     "metadata": {},
     "output_type": "execute_result"
    }
   ],
   "source": [
    "whole_part"
   ]
  },
  {
   "cell_type": "code",
   "execution_count": 138,
   "metadata": {},
   "outputs": [
    {
     "data": {
      "text/plain": [
       "array([-5.37905959,  7.62232905,  3.45679937, -0.78534743, -7.15202556,\n",
       "       11.29816451, -4.77667607])"
      ]
     },
     "execution_count": 138,
     "metadata": {},
     "output_type": "execute_result"
    }
   ],
   "source": [
    "arr"
   ]
  },
  {
   "cell_type": "code",
   "execution_count": 139,
   "metadata": {},
   "outputs": [
    {
     "name": "stderr",
     "output_type": "stream",
     "text": [
      "C:\\Users\\Owner\\Anaconda3\\lib\\site-packages\\ipykernel_launcher.py:1: RuntimeWarning: invalid value encountered in sqrt\n",
      "  \"\"\"Entry point for launching an IPython kernel.\n"
     ]
    },
    {
     "data": {
      "text/plain": [
       "array([       nan, 2.76085658, 1.85924699,        nan,        nan,\n",
       "       3.36127424,        nan])"
      ]
     },
     "execution_count": 139,
     "metadata": {},
     "output_type": "execute_result"
    }
   ],
   "source": [
    "np.sqrt(arr)"
   ]
  },
  {
   "cell_type": "code",
   "execution_count": 140,
   "metadata": {},
   "outputs": [
    {
     "data": {
      "text/plain": [
       "array([-5.37905959,  7.62232905,  3.45679937, -0.78534743, -7.15202556,\n",
       "       11.29816451, -4.77667607])"
      ]
     },
     "execution_count": 140,
     "metadata": {},
     "output_type": "execute_result"
    }
   ],
   "source": [
    "arr"
   ]
  },
  {
   "cell_type": "code",
   "execution_count": 141,
   "metadata": {},
   "outputs": [],
   "source": [
    "arr1 = np.empty(7)"
   ]
  },
  {
   "cell_type": "code",
   "execution_count": 142,
   "metadata": {},
   "outputs": [
    {
     "name": "stderr",
     "output_type": "stream",
     "text": [
      "C:\\Users\\Owner\\Anaconda3\\lib\\site-packages\\ipykernel_launcher.py:1: RuntimeWarning: invalid value encountered in sqrt\n",
      "  \"\"\"Entry point for launching an IPython kernel.\n"
     ]
    },
    {
     "data": {
      "text/plain": [
       "array([       nan, 2.76085658, 1.85924699,        nan,        nan,\n",
       "       3.36127424,        nan])"
      ]
     },
     "execution_count": 142,
     "metadata": {},
     "output_type": "execute_result"
    }
   ],
   "source": [
    "np.sqrt(arr,arr1)"
   ]
  },
  {
   "cell_type": "code",
   "execution_count": 143,
   "metadata": {},
   "outputs": [
    {
     "data": {
      "text/plain": [
       "array([-5.37905959,  7.62232905,  3.45679937, -0.78534743, -7.15202556,\n",
       "       11.29816451, -4.77667607])"
      ]
     },
     "execution_count": 143,
     "metadata": {},
     "output_type": "execute_result"
    }
   ],
   "source": [
    "arr"
   ]
  },
  {
   "cell_type": "code",
   "execution_count": 144,
   "metadata": {},
   "outputs": [
    {
     "data": {
      "text/plain": [
       "array([       nan, 2.76085658, 1.85924699,        nan,        nan,\n",
       "       3.36127424,        nan])"
      ]
     },
     "execution_count": 144,
     "metadata": {},
     "output_type": "execute_result"
    }
   ],
   "source": [
    "arr1"
   ]
  },
  {
   "cell_type": "markdown",
   "metadata": {},
   "source": [
    "# Mathematical and Statistical Methods"
   ]
  },
  {
   "cell_type": "code",
   "execution_count": 145,
   "metadata": {},
   "outputs": [],
   "source": [
    "arr = np.random.randn(5, 4)"
   ]
  },
  {
   "cell_type": "code",
   "execution_count": 146,
   "metadata": {},
   "outputs": [
    {
     "data": {
      "text/plain": [
       "array([[ 0.90088359, -3.14808413, -0.86100401, -1.33650032],\n",
       "       [ 0.37720863,  0.75529367, -0.51318379,  1.1219697 ],\n",
       "       [-1.28121574, -2.76912033,  0.62835612, -2.37268214],\n",
       "       [-0.23587748,  0.75711405, -2.41106308,  0.0275648 ],\n",
       "       [ 0.11842431, -0.82539437,  1.73285176, -1.34211934]])"
      ]
     },
     "execution_count": 146,
     "metadata": {},
     "output_type": "execute_result"
    }
   ],
   "source": [
    "arr"
   ]
  },
  {
   "cell_type": "code",
   "execution_count": 147,
   "metadata": {},
   "outputs": [
    {
     "data": {
      "text/plain": [
       "-0.5338289048944136"
      ]
     },
     "execution_count": 147,
     "metadata": {},
     "output_type": "execute_result"
    }
   ],
   "source": [
    "arr.mean()"
   ]
  },
  {
   "cell_type": "code",
   "execution_count": 148,
   "metadata": {},
   "outputs": [
    {
     "data": {
      "text/plain": [
       "-10.676578097888271"
      ]
     },
     "execution_count": 148,
     "metadata": {},
     "output_type": "execute_result"
    }
   ],
   "source": [
    "arr.sum()"
   ]
  },
  {
   "cell_type": "code",
   "execution_count": 149,
   "metadata": {},
   "outputs": [
    {
     "data": {
      "text/plain": [
       "-0.5338289048944136"
      ]
     },
     "execution_count": 149,
     "metadata": {},
     "output_type": "execute_result"
    }
   ],
   "source": [
    "np.mean(arr)"
   ]
  },
  {
   "cell_type": "code",
   "execution_count": 150,
   "metadata": {},
   "outputs": [
    {
     "data": {
      "text/plain": [
       "-0.5338289048944136"
      ]
     },
     "execution_count": 150,
     "metadata": {},
     "output_type": "execute_result"
    }
   ],
   "source": [
    "arr.mean()"
   ]
  },
  {
   "cell_type": "code",
   "execution_count": 151,
   "metadata": {},
   "outputs": [
    {
     "data": {
      "text/plain": [
       "array([-1.11117622,  0.43532205, -1.44866552, -0.46556543, -0.07905941])"
      ]
     },
     "execution_count": 151,
     "metadata": {},
     "output_type": "execute_result"
    }
   ],
   "source": [
    "arr.mean(axis=1)"
   ]
  },
  {
   "cell_type": "code",
   "execution_count": 152,
   "metadata": {},
   "outputs": [
    {
     "data": {
      "text/plain": [
       "array([-0.02411534, -1.04603822, -0.2848086 , -0.78035346])"
      ]
     },
     "execution_count": 152,
     "metadata": {},
     "output_type": "execute_result"
    }
   ],
   "source": [
    "arr.mean(axis=0)"
   ]
  },
  {
   "cell_type": "code",
   "execution_count": 153,
   "metadata": {},
   "outputs": [
    {
     "data": {
      "text/plain": [
       "array([-0.12057668, -5.23019111, -1.42404301, -3.9017673 ])"
      ]
     },
     "execution_count": 153,
     "metadata": {},
     "output_type": "execute_result"
    }
   ],
   "source": [
    " arr.sum(axis=0)"
   ]
  },
  {
   "cell_type": "code",
   "execution_count": 154,
   "metadata": {},
   "outputs": [
    {
     "data": {
      "text/plain": [
       "array([-0.12057668, -5.23019111, -1.42404301, -3.9017673 ])"
      ]
     },
     "execution_count": 154,
     "metadata": {},
     "output_type": "execute_result"
    }
   ],
   "source": [
    "arr.sum(0)"
   ]
  },
  {
   "cell_type": "code",
   "execution_count": 155,
   "metadata": {},
   "outputs": [
    {
     "data": {
      "text/plain": [
       "array([-4.44470486,  1.74128821, -5.79466208, -1.86226171, -0.31623765])"
      ]
     },
     "execution_count": 155,
     "metadata": {},
     "output_type": "execute_result"
    }
   ],
   "source": [
    "arr.sum(1)"
   ]
  },
  {
   "cell_type": "code",
   "execution_count": 156,
   "metadata": {},
   "outputs": [
    {
     "data": {
      "text/plain": [
       "array([  0.90088359,  -2.24720053,  -3.10820454,  -4.44470486,\n",
       "        -4.06749623,  -3.31220256,  -3.82538636,  -2.70341666,\n",
       "        -3.98463239,  -6.75375272,  -6.1253966 ,  -8.49807874,\n",
       "        -8.73395622,  -7.97684218, -10.38790525, -10.36034045,\n",
       "       -10.24191614, -11.06731051,  -9.33445876, -10.6765781 ])"
      ]
     },
     "execution_count": 156,
     "metadata": {},
     "output_type": "execute_result"
    }
   ],
   "source": [
    "arr.cumsum()"
   ]
  },
  {
   "cell_type": "code",
   "execution_count": 157,
   "metadata": {},
   "outputs": [
    {
     "data": {
      "text/plain": [
       "array([[ 0.90088359, -3.14808413, -0.86100401, -1.33650032],\n",
       "       [ 0.37720863,  0.75529367, -0.51318379,  1.1219697 ],\n",
       "       [-1.28121574, -2.76912033,  0.62835612, -2.37268214],\n",
       "       [-0.23587748,  0.75711405, -2.41106308,  0.0275648 ],\n",
       "       [ 0.11842431, -0.82539437,  1.73285176, -1.34211934]])"
      ]
     },
     "execution_count": 157,
     "metadata": {},
     "output_type": "execute_result"
    }
   ],
   "source": [
    "arr"
   ]
  },
  {
   "cell_type": "code",
   "execution_count": 158,
   "metadata": {},
   "outputs": [],
   "source": [
    "arr = np.array([0, 1, 2, 3, 4, 5, 6, 7])"
   ]
  },
  {
   "cell_type": "code",
   "execution_count": 159,
   "metadata": {},
   "outputs": [
    {
     "data": {
      "text/plain": [
       "array([0, 1, 2, 3, 4, 5, 6, 7])"
      ]
     },
     "execution_count": 159,
     "metadata": {},
     "output_type": "execute_result"
    }
   ],
   "source": [
    "arr"
   ]
  },
  {
   "cell_type": "code",
   "execution_count": 160,
   "metadata": {},
   "outputs": [
    {
     "data": {
      "text/plain": [
       "array([ 0,  1,  3,  6, 10, 15, 21, 28], dtype=int32)"
      ]
     },
     "execution_count": 160,
     "metadata": {},
     "output_type": "execute_result"
    }
   ],
   "source": [
    "arr.cumsum()"
   ]
  },
  {
   "cell_type": "code",
   "execution_count": 161,
   "metadata": {},
   "outputs": [],
   "source": [
    "arr = np.array([[0, 1, 2], [3, 4, 5], [6, 7, 8]])"
   ]
  },
  {
   "cell_type": "code",
   "execution_count": 162,
   "metadata": {},
   "outputs": [
    {
     "data": {
      "text/plain": [
       "array([[0, 1, 2],\n",
       "       [3, 4, 5],\n",
       "       [6, 7, 8]])"
      ]
     },
     "execution_count": 162,
     "metadata": {},
     "output_type": "execute_result"
    }
   ],
   "source": [
    "arr"
   ]
  },
  {
   "cell_type": "code",
   "execution_count": 163,
   "metadata": {},
   "outputs": [
    {
     "data": {
      "text/plain": [
       "array([ 0,  1,  3,  6, 10, 15, 21, 28, 36], dtype=int32)"
      ]
     },
     "execution_count": 163,
     "metadata": {},
     "output_type": "execute_result"
    }
   ],
   "source": [
    "arr.cumsum()"
   ]
  },
  {
   "cell_type": "code",
   "execution_count": 164,
   "metadata": {},
   "outputs": [
    {
     "data": {
      "text/plain": [
       "array([[ 0,  1,  2],\n",
       "       [ 3,  5,  7],\n",
       "       [ 9, 12, 15]], dtype=int32)"
      ]
     },
     "execution_count": 164,
     "metadata": {},
     "output_type": "execute_result"
    }
   ],
   "source": [
    "arr.cumsum(axis=0)"
   ]
  },
  {
   "cell_type": "code",
   "execution_count": 165,
   "metadata": {},
   "outputs": [
    {
     "data": {
      "text/plain": [
       "array([[ 0,  1,  3],\n",
       "       [ 3,  7, 12],\n",
       "       [ 6, 13, 21]], dtype=int32)"
      ]
     },
     "execution_count": 165,
     "metadata": {},
     "output_type": "execute_result"
    }
   ],
   "source": [
    "arr.cumsum(axis=1)"
   ]
  },
  {
   "cell_type": "code",
   "execution_count": 166,
   "metadata": {},
   "outputs": [
    {
     "data": {
      "text/plain": [
       "array([[  0,   0,   0],\n",
       "       [  3,  12,  60],\n",
       "       [  6,  42, 336]], dtype=int32)"
      ]
     },
     "execution_count": 166,
     "metadata": {},
     "output_type": "execute_result"
    }
   ],
   "source": [
    "arr.cumprod(axis=1)"
   ]
  },
  {
   "cell_type": "code",
   "execution_count": 171,
   "metadata": {},
   "outputs": [],
   "source": [
    "arr = arr.reshape((1,9))"
   ]
  },
  {
   "cell_type": "code",
   "execution_count": 172,
   "metadata": {},
   "outputs": [
    {
     "data": {
      "text/plain": [
       "array([[0, 1, 2, 3, 4, 5, 6, 7, 8]])"
      ]
     },
     "execution_count": 172,
     "metadata": {},
     "output_type": "execute_result"
    }
   ],
   "source": [
    "arr"
   ]
  },
  {
   "cell_type": "code",
   "execution_count": 173,
   "metadata": {},
   "outputs": [
    {
     "data": {
      "text/plain": [
       "2"
      ]
     },
     "execution_count": 173,
     "metadata": {},
     "output_type": "execute_result"
    }
   ],
   "source": [
    "arr.ndim"
   ]
  },
  {
   "cell_type": "code",
   "execution_count": 187,
   "metadata": {},
   "outputs": [],
   "source": [
    "a = np.array([1,2,3,4,5,6,7,8])"
   ]
  },
  {
   "cell_type": "code",
   "execution_count": 188,
   "metadata": {},
   "outputs": [
    {
     "data": {
      "text/plain": [
       "array([1, 2, 3, 4, 5, 6, 7, 8])"
      ]
     },
     "execution_count": 188,
     "metadata": {},
     "output_type": "execute_result"
    }
   ],
   "source": [
    "a"
   ]
  },
  {
   "cell_type": "code",
   "execution_count": 189,
   "metadata": {},
   "outputs": [
    {
     "data": {
      "text/plain": [
       "1"
      ]
     },
     "execution_count": 189,
     "metadata": {},
     "output_type": "execute_result"
    }
   ],
   "source": [
    "a.ndim"
   ]
  },
  {
   "cell_type": "code",
   "execution_count": null,
   "metadata": {},
   "outputs": [],
   "source": []
  },
  {
   "cell_type": "code",
   "execution_count": 190,
   "metadata": {},
   "outputs": [
    {
     "data": {
      "text/plain": [
       "(8,)"
      ]
     },
     "execution_count": 190,
     "metadata": {},
     "output_type": "execute_result"
    }
   ],
   "source": [
    "a.shape"
   ]
  },
  {
   "cell_type": "code",
   "execution_count": 191,
   "metadata": {},
   "outputs": [],
   "source": [
    "a = a.reshape((2,2,2))"
   ]
  },
  {
   "cell_type": "code",
   "execution_count": 192,
   "metadata": {},
   "outputs": [
    {
     "data": {
      "text/plain": [
       "array([[[1, 2],\n",
       "        [3, 4]],\n",
       "\n",
       "       [[5, 6],\n",
       "        [7, 8]]])"
      ]
     },
     "execution_count": 192,
     "metadata": {},
     "output_type": "execute_result"
    }
   ],
   "source": [
    "a"
   ]
  },
  {
   "cell_type": "code",
   "execution_count": 193,
   "metadata": {},
   "outputs": [
    {
     "data": {
      "text/plain": [
       "3"
      ]
     },
     "execution_count": 193,
     "metadata": {},
     "output_type": "execute_result"
    }
   ],
   "source": [
    "a.ndim"
   ]
  },
  {
   "cell_type": "code",
   "execution_count": 194,
   "metadata": {},
   "outputs": [],
   "source": [
    "a = a.reshape((4,2)) "
   ]
  },
  {
   "cell_type": "code",
   "execution_count": 195,
   "metadata": {},
   "outputs": [
    {
     "data": {
      "text/plain": [
       "array([[1, 2],\n",
       "       [3, 4],\n",
       "       [5, 6],\n",
       "       [7, 8]])"
      ]
     },
     "execution_count": 195,
     "metadata": {},
     "output_type": "execute_result"
    }
   ],
   "source": [
    "a"
   ]
  },
  {
   "cell_type": "code",
   "execution_count": 196,
   "metadata": {},
   "outputs": [
    {
     "data": {
      "text/plain": [
       "2"
      ]
     },
     "execution_count": 196,
     "metadata": {},
     "output_type": "execute_result"
    }
   ],
   "source": [
    "a.ndim"
   ]
  },
  {
   "cell_type": "code",
   "execution_count": 197,
   "metadata": {},
   "outputs": [],
   "source": [
    "a = a.reshape((8,1))"
   ]
  },
  {
   "cell_type": "code",
   "execution_count": 198,
   "metadata": {},
   "outputs": [
    {
     "data": {
      "text/plain": [
       "array([[1],\n",
       "       [2],\n",
       "       [3],\n",
       "       [4],\n",
       "       [5],\n",
       "       [6],\n",
       "       [7],\n",
       "       [8]])"
      ]
     },
     "execution_count": 198,
     "metadata": {},
     "output_type": "execute_result"
    }
   ],
   "source": [
    "a"
   ]
  },
  {
   "cell_type": "code",
   "execution_count": 199,
   "metadata": {},
   "outputs": [],
   "source": [
    "a = a.reshape((1,8))"
   ]
  },
  {
   "cell_type": "code",
   "execution_count": 200,
   "metadata": {},
   "outputs": [
    {
     "data": {
      "text/plain": [
       "array([[1, 2, 3, 4, 5, 6, 7, 8]])"
      ]
     },
     "execution_count": 200,
     "metadata": {},
     "output_type": "execute_result"
    }
   ],
   "source": [
    "a"
   ]
  },
  {
   "cell_type": "code",
   "execution_count": 201,
   "metadata": {},
   "outputs": [
    {
     "data": {
      "text/plain": [
       "2"
      ]
     },
     "execution_count": 201,
     "metadata": {},
     "output_type": "execute_result"
    }
   ],
   "source": [
    "a.ndim"
   ]
  },
  {
   "cell_type": "code",
   "execution_count": 207,
   "metadata": {},
   "outputs": [],
   "source": [
    "a = a.reshape((8))"
   ]
  },
  {
   "cell_type": "code",
   "execution_count": 208,
   "metadata": {},
   "outputs": [
    {
     "data": {
      "text/plain": [
       "array([1, 2, 3, 4, 5, 6, 7, 8])"
      ]
     },
     "execution_count": 208,
     "metadata": {},
     "output_type": "execute_result"
    }
   ],
   "source": [
    "a"
   ]
  },
  {
   "cell_type": "code",
   "execution_count": 209,
   "metadata": {},
   "outputs": [
    {
     "data": {
      "text/plain": [
       "1"
      ]
     },
     "execution_count": 209,
     "metadata": {},
     "output_type": "execute_result"
    }
   ],
   "source": [
    "a.ndim"
   ]
  },
  {
   "cell_type": "code",
   "execution_count": 210,
   "metadata": {},
   "outputs": [
    {
     "data": {
      "text/plain": [
       "(8,)"
      ]
     },
     "execution_count": 210,
     "metadata": {},
     "output_type": "execute_result"
    }
   ],
   "source": [
    "a.shape"
   ]
  },
  {
   "cell_type": "code",
   "execution_count": 211,
   "metadata": {},
   "outputs": [],
   "source": [
    "a = np.arange(8).reshape((2,2,2))"
   ]
  },
  {
   "cell_type": "code",
   "execution_count": 212,
   "metadata": {},
   "outputs": [
    {
     "data": {
      "text/plain": [
       "array([[[0, 1],\n",
       "        [2, 3]],\n",
       "\n",
       "       [[4, 5],\n",
       "        [6, 7]]])"
      ]
     },
     "execution_count": 212,
     "metadata": {},
     "output_type": "execute_result"
    }
   ],
   "source": [
    "a"
   ]
  },
  {
   "cell_type": "code",
   "execution_count": 213,
   "metadata": {},
   "outputs": [
    {
     "data": {
      "text/plain": [
       "array([0, 1, 2, 3, 4, 5, 6, 7])"
      ]
     },
     "execution_count": 213,
     "metadata": {},
     "output_type": "execute_result"
    }
   ],
   "source": [
    "a.flatten()"
   ]
  },
  {
   "cell_type": "code",
   "execution_count": null,
   "metadata": {},
   "outputs": [],
   "source": []
  },
  {
   "cell_type": "code",
   "execution_count": 214,
   "metadata": {},
   "outputs": [],
   "source": [
    "arr = np.random.randn(100)"
   ]
  },
  {
   "cell_type": "code",
   "execution_count": 217,
   "metadata": {},
   "outputs": [
    {
     "data": {
      "text/plain": [
       "array([-0.07892158,  0.99670567, -0.57511442,  0.13857006,  0.67923439,\n",
       "        0.51371882,  0.25165379,  0.63104755,  0.54271782, -0.51288877,\n",
       "       -0.45541925, -1.42550445,  1.28362153,  0.45823638,  1.38028947,\n",
       "        0.23426962,  0.41838474, -0.08707677, -0.12645619, -0.27123247,\n",
       "       -1.40726031,  0.26767784, -0.97965159,  0.28039809, -0.40228207,\n",
       "       -1.42094029,  1.17000302, -0.21179311,  0.14653918, -0.06839585,\n",
       "       -1.69847233, -0.24230302,  0.02394893,  0.76210877,  1.38878766,\n",
       "       -0.7918979 , -1.76180424,  0.78317227, -1.24388567, -0.45981565,\n",
       "       -0.87434788, -0.32733882,  1.41501403,  0.81455273,  0.3749262 ,\n",
       "        1.22259064,  0.00816474,  0.11916412, -0.87883141,  1.55195847,\n",
       "        0.2783557 ,  0.78047409,  0.85716226, -0.09661188,  1.10842217,\n",
       "       -1.1057293 ,  0.95012492, -0.12924191,  1.38759062, -1.92276218,\n",
       "        0.42273159, -0.39626546, -0.14469147, -1.16667157,  0.31428347,\n",
       "       -0.9384142 , -1.74068065,  0.44091525, -1.70723449,  0.05081016,\n",
       "        0.16411119, -0.72454565, -0.43163273, -0.81810964,  0.65422678,\n",
       "        0.99734462, -0.57763465,  0.5158345 ,  0.29347217,  1.62170438,\n",
       "        0.40057356, -0.68466267, -0.78032039,  0.90964476, -1.55866755,\n",
       "       -0.10692657,  1.59329778, -1.81013832,  0.12958214,  0.14202509,\n",
       "       -1.72920819, -0.5220313 , -0.00806888, -0.86197808,  0.4772602 ,\n",
       "        0.16050063, -0.07142499, -1.50877086, -1.08725611,  0.99987392])"
      ]
     },
     "execution_count": 217,
     "metadata": {},
     "output_type": "execute_result"
    }
   ],
   "source": [
    "arr"
   ]
  },
  {
   "cell_type": "code",
   "execution_count": 216,
   "metadata": {},
   "outputs": [
    {
     "data": {
      "text/plain": [
       "51"
      ]
     },
     "execution_count": 216,
     "metadata": {},
     "output_type": "execute_result"
    }
   ],
   "source": [
    "(arr > 0).sum()"
   ]
  },
  {
   "cell_type": "code",
   "execution_count": 218,
   "metadata": {},
   "outputs": [],
   "source": [
    "bools = np.array([False, False, True, False])"
   ]
  },
  {
   "cell_type": "code",
   "execution_count": 219,
   "metadata": {},
   "outputs": [
    {
     "data": {
      "text/plain": [
       "bool"
      ]
     },
     "execution_count": 219,
     "metadata": {},
     "output_type": "execute_result"
    }
   ],
   "source": [
    "bool"
   ]
  },
  {
   "cell_type": "code",
   "execution_count": 231,
   "metadata": {},
   "outputs": [
    {
     "data": {
      "text/plain": [
       "True"
      ]
     },
     "execution_count": 231,
     "metadata": {},
     "output_type": "execute_result"
    }
   ],
   "source": [
    "bools.any()"
   ]
  },
  {
   "cell_type": "markdown",
   "metadata": {},
   "source": [
    "# Sorting"
   ]
  },
  {
   "cell_type": "code",
   "execution_count": 232,
   "metadata": {},
   "outputs": [],
   "source": [
    "arr = np.random.randn(6)"
   ]
  },
  {
   "cell_type": "code",
   "execution_count": 233,
   "metadata": {},
   "outputs": [
    {
     "data": {
      "text/plain": [
       "array([ 0.1113608 ,  0.50758747, -0.23250792, -0.33341356, -0.40056283,\n",
       "        0.06401867])"
      ]
     },
     "execution_count": 233,
     "metadata": {},
     "output_type": "execute_result"
    }
   ],
   "source": [
    "arr"
   ]
  },
  {
   "cell_type": "code",
   "execution_count": 234,
   "metadata": {},
   "outputs": [],
   "source": [
    "arr.sort()"
   ]
  },
  {
   "cell_type": "code",
   "execution_count": 235,
   "metadata": {},
   "outputs": [
    {
     "data": {
      "text/plain": [
       "array([-0.40056283, -0.33341356, -0.23250792,  0.06401867,  0.1113608 ,\n",
       "        0.50758747])"
      ]
     },
     "execution_count": 235,
     "metadata": {},
     "output_type": "execute_result"
    }
   ],
   "source": [
    "arr"
   ]
  },
  {
   "cell_type": "code",
   "execution_count": 236,
   "metadata": {},
   "outputs": [
    {
     "data": {
      "text/plain": [
       "array([[ 0.0156819 ,  0.05412192,  0.00597391],\n",
       "       [ 0.31182834, -1.91087149,  0.10717543],\n",
       "       [-1.05044706, -0.3208261 , -1.56374565],\n",
       "       [ 1.76766288, -0.33622628, -1.04293164],\n",
       "       [-0.46243221, -0.04558601,  0.02035122]])"
      ]
     },
     "execution_count": 236,
     "metadata": {},
     "output_type": "execute_result"
    }
   ],
   "source": [
    "arr = np.random.randn(5, 3)\n",
    "arr"
   ]
  },
  {
   "cell_type": "code",
   "execution_count": 237,
   "metadata": {},
   "outputs": [],
   "source": [
    "arr.sort(1)"
   ]
  },
  {
   "cell_type": "code",
   "execution_count": 238,
   "metadata": {},
   "outputs": [
    {
     "data": {
      "text/plain": [
       "array([[ 0.00597391,  0.0156819 ,  0.05412192],\n",
       "       [-1.91087149,  0.10717543,  0.31182834],\n",
       "       [-1.56374565, -1.05044706, -0.3208261 ],\n",
       "       [-1.04293164, -0.33622628,  1.76766288],\n",
       "       [-0.46243221, -0.04558601,  0.02035122]])"
      ]
     },
     "execution_count": 238,
     "metadata": {},
     "output_type": "execute_result"
    }
   ],
   "source": [
    "arr"
   ]
  },
  {
   "cell_type": "code",
   "execution_count": 239,
   "metadata": {},
   "outputs": [
    {
     "data": {
      "text/plain": [
       "array([ 1.69328000e-01,  5.43485324e-01,  4.59540501e-01, -1.04724591e-01,\n",
       "       -9.86473296e-01, -2.36969696e-01, -9.50312786e-02, -3.84374909e-01,\n",
       "       -8.74241130e-02,  1.02668394e+00, -2.54520226e-01,  2.76627455e+00,\n",
       "       -5.87380059e-01,  2.62119608e-02, -1.28084682e+00, -8.42173717e-02,\n",
       "       -1.08953972e+00,  3.18133016e-01,  5.30201393e-01, -1.24712892e+00,\n",
       "       -1.98420177e+00, -1.55191893e+00, -1.51064128e+00, -1.93425265e+00,\n",
       "       -1.71706830e+00, -5.62410477e-01,  5.44902366e-01,  2.52778645e-01,\n",
       "       -9.17572923e-01, -4.35125917e-01, -1.63624304e+00, -3.61883708e-01,\n",
       "        1.31542861e+00, -1.58844790e+00,  3.19709581e-01, -1.13030445e-01,\n",
       "       -9.81780958e-02,  2.46673904e+00,  4.53678934e-01, -1.26469263e+00,\n",
       "        9.66431611e-01,  8.45045931e-01,  2.41171702e+00,  8.45072929e-01,\n",
       "        3.54318164e-01,  1.44458591e+00, -7.52211343e-02, -4.88682732e-01,\n",
       "       -5.82916613e-01, -1.92611670e-03,  2.26920339e-01,  7.65970303e-01,\n",
       "       -1.51254475e+00, -8.30561813e-01, -4.56553835e-03,  5.32581830e-01,\n",
       "       -6.26459082e-01,  1.40686904e+00,  5.35934624e-02,  2.73691529e+00,\n",
       "        6.94808688e-01,  1.15259602e+00, -3.46121272e-01, -2.63571808e-01,\n",
       "        8.86912553e-01,  3.74123469e-01, -7.44283342e-02, -8.74381605e-02,\n",
       "       -3.48949851e-01, -3.08050911e-01, -1.40233703e+00,  2.32013865e+00,\n",
       "        6.38036249e-01,  9.36397756e-02,  9.51270088e-01, -1.23094679e+00,\n",
       "        9.54382040e-01, -1.82927283e+00, -1.41371188e+00,  4.37938737e-01,\n",
       "       -3.22301060e-01,  1.71290560e+00,  1.04748955e-01, -1.88264056e+00,\n",
       "        9.68569007e-01,  2.39345963e-01,  1.84718193e+00,  5.36116891e-02,\n",
       "       -8.25196780e-02, -5.00135400e-01,  2.51107191e-01,  2.84216833e-02,\n",
       "        8.49026167e-01, -1.04694298e+00,  2.82324575e-01, -7.04437165e-01,\n",
       "       -1.04447929e+00,  8.75709998e-01, -1.28296344e-01, -1.45645123e-01,\n",
       "        4.80551554e-01, -2.81240450e-01, -1.11226650e+00,  7.33009237e-02,\n",
       "       -1.31784765e+00, -1.37711245e+00, -5.95190848e-01,  1.14549085e+00,\n",
       "        1.31482855e+00,  8.27595725e-01,  2.83265387e-01, -1.09716537e+00,\n",
       "       -3.77085449e-01,  1.45414932e+00, -2.23056862e-01, -2.51923429e-01,\n",
       "       -1.69651314e+00, -3.16862528e-01, -1.21317696e+00,  4.15591740e-01,\n",
       "       -2.94419492e-01, -1.38595151e+00,  6.92832997e-01,  1.31916338e+00,\n",
       "        8.97222810e-01, -1.56584198e-01, -1.36213078e-01,  3.96560530e-01,\n",
       "        1.20086386e+00,  1.97234341e+00, -5.36055319e-01,  6.24176567e-01,\n",
       "       -3.65310307e-02,  7.75501368e-01, -6.01071486e-01,  8.66314032e-01,\n",
       "       -1.01996075e+00,  1.00750547e+00,  1.54837923e-01,  8.40068294e-01,\n",
       "        1.76884978e-01,  1.01339895e+00, -3.00475337e-01, -8.64320241e-01,\n",
       "        3.60943030e-01,  8.72233911e-01,  2.58840608e-01, -1.87723135e-01,\n",
       "       -1.46054781e+00,  2.59519309e-01, -7.13062202e-01, -7.48773971e-01,\n",
       "        8.39778495e-01, -6.40875118e-02,  1.15284044e-01, -7.51446595e-01,\n",
       "        2.14686689e-02, -5.92469790e-02, -8.89672510e-02, -6.92268223e-01,\n",
       "       -8.48702657e-01, -7.73900243e-01,  2.50347706e+00,  5.91153168e-01,\n",
       "        1.01754380e+00, -7.81695128e-01, -4.36742561e-01, -8.99204302e-02,\n",
       "        2.00940563e-01, -2.30067145e-01, -2.64933794e-01,  9.76465694e-01,\n",
       "        1.36577618e-01,  7.20776593e-01,  7.28766223e-01, -7.44155434e-01,\n",
       "       -1.24546659e+00,  2.88096217e+00, -1.91759843e+00, -7.44616583e-01,\n",
       "        6.37391445e-01, -2.28534098e-01,  1.91566576e-01,  1.17222965e+00,\n",
       "        1.39579490e-01,  3.62489499e-01,  1.12262837e+00, -8.55262951e-01,\n",
       "        6.67205656e-02,  6.29880736e-01, -1.94173242e-01, -3.17915033e-01,\n",
       "        8.12280540e-01,  1.02650994e+00, -7.47186091e-01, -1.27926295e+00,\n",
       "        1.74239386e-01,  7.37585206e-01,  4.82053304e-01,  2.44195919e-01,\n",
       "       -1.66735105e-01,  1.36415084e-01,  8.26037850e-01,  2.18444932e+00,\n",
       "        3.91156429e-01, -4.12161084e-01,  1.15758288e-01, -9.33049000e-01,\n",
       "        6.84906931e-01,  7.53655887e-01,  5.29000656e-01,  1.24615715e-02,\n",
       "        7.15041723e-01,  4.02221052e-02,  3.58624848e-01,  1.22221790e+00,\n",
       "        8.07845087e-01, -6.64945265e-01, -2.47425727e-01,  4.70535341e-01,\n",
       "       -2.00202967e-01, -1.17673858e+00, -1.18858792e+00,  3.62099133e-01,\n",
       "        7.17111208e-01,  1.10179073e+00,  7.60020996e-01, -1.33697547e+00,\n",
       "        5.20002641e-01,  5.93350012e-01,  2.52475801e-01,  1.11685750e+00,\n",
       "        4.05841635e-01,  5.81295236e-01,  5.84039637e-01,  3.01802804e-01,\n",
       "        1.56387404e+00,  8.24115042e-01, -3.23357938e-01, -1.85932961e-01,\n",
       "       -5.60121862e-01,  9.07557195e-01,  5.16863089e-01,  1.02840708e+00,\n",
       "       -3.09340158e-01,  5.34464630e-02, -2.21086416e+00, -1.82031258e-01,\n",
       "       -3.30243791e-01, -5.52152706e-03, -7.72077046e-01,  3.50417968e-01,\n",
       "        2.09387319e-01,  9.17119686e-01,  1.05358519e+00,  1.79520186e-01,\n",
       "        2.94392501e-01, -9.94791511e-01,  1.41256513e+00, -2.10449248e-01,\n",
       "       -1.40214508e+00, -1.13261818e-01,  1.19677065e+00, -6.65684335e-01,\n",
       "        9.20012932e-01,  1.16644693e-01,  1.01212672e+00, -1.22938051e+00,\n",
       "       -7.42206456e-01,  7.08335667e-01, -9.56044138e-01, -1.10266806e+00,\n",
       "        1.88413143e-01,  7.05852283e-01,  9.00759880e-01,  1.93023034e+00,\n",
       "       -6.89615453e-01,  8.35676783e-02,  6.40026075e-01, -2.57896635e-01,\n",
       "       -8.24939854e-01,  5.10458513e-01,  7.34631525e-02, -1.81722391e+00,\n",
       "        3.14549041e-01, -5.45157779e-01, -3.74644465e-02,  4.67356409e-01,\n",
       "       -7.91475561e-01,  5.19754770e-02, -2.27995391e-01,  9.74199804e-01,\n",
       "        1.04968331e+00,  2.26857639e-02, -6.03891184e-01, -1.47094675e+00,\n",
       "        1.83897829e-01, -3.82026749e-01, -5.70621030e-01, -5.29702186e-02,\n",
       "        9.39688403e-01, -4.43191058e-01,  1.37787748e+00,  3.17910960e-01,\n",
       "       -5.83131670e-01, -9.20455679e-01,  7.21274813e-02, -4.18521638e-02,\n",
       "       -1.66166834e-01, -6.70480484e-01,  1.41021821e-01, -1.62168214e+00,\n",
       "       -3.08747058e-01, -1.43718469e+00,  1.01256028e+00, -3.38651314e-01,\n",
       "        2.35556004e-01,  1.52125825e+00, -2.25305589e-01,  3.31113019e-01,\n",
       "       -2.70996719e+00,  1.23007663e+00, -7.10082532e-02, -1.05247359e+00,\n",
       "        1.23304870e+00,  3.34073850e-01,  6.12137950e-01,  4.36763991e-01,\n",
       "        1.32342722e+00,  7.91557731e-02, -6.21328351e-01, -9.43774205e-02,\n",
       "        2.19293787e-02, -1.21601319e+00, -7.98713446e-01, -8.56555787e-01,\n",
       "       -3.56644330e-01, -9.52579469e-01, -1.28910161e+00,  6.78460651e-02,\n",
       "        5.39635317e-01,  5.49712197e-02,  5.49682378e-01, -3.50757170e-01,\n",
       "        3.85178335e+00,  9.61888274e-01, -8.37030834e-01,  7.19779979e-02,\n",
       "       -8.69660090e-01,  7.97404130e-01,  5.72447550e-01,  1.96550548e+00,\n",
       "       -7.88955520e-01,  1.81188025e+00,  1.06255616e+00, -1.01819104e+00,\n",
       "        5.81181095e-01, -3.07969807e-01,  1.65630813e+00, -2.50998254e-01,\n",
       "       -7.42608903e-01, -4.63533877e-01, -1.43453841e+00, -2.77640510e-01,\n",
       "        1.29351382e+00,  1.33631699e+00,  7.25451893e-02,  1.81725006e-01,\n",
       "        1.66834690e-01,  1.68902241e+00,  1.57547230e-01, -4.64561683e-01,\n",
       "       -3.87591586e-01, -7.51422972e-01,  1.01411885e+00,  1.03583538e+00,\n",
       "        6.29011311e-01,  5.26645899e-01, -2.33858728e-02,  3.15798182e-01,\n",
       "       -2.43403931e-03, -5.13794433e-01, -7.12780672e-01,  1.69306940e-01,\n",
       "        5.79467449e-02,  1.77066662e+00,  2.78864560e-01, -8.76728992e-01,\n",
       "       -6.68001043e-01,  7.76870594e-01,  6.36250249e-01,  9.58451210e-01,\n",
       "        1.50645804e-01, -7.25411825e-01, -1.16090128e-01, -2.59299816e-01,\n",
       "       -6.43042059e-01,  6.08190998e-02,  8.17942288e-01,  1.32517092e+00,\n",
       "        7.96275995e-01, -2.96079168e-04, -6.02338891e-01, -1.11515061e+00,\n",
       "       -2.84892066e-01, -1.28634219e+00, -1.06586573e+00,  4.46028598e-01,\n",
       "       -1.56464861e+00, -1.00186076e+00, -1.26210970e+00, -1.46454659e-01,\n",
       "       -7.11876314e-01, -1.04548636e+00,  1.48423431e-01, -6.93856875e-01,\n",
       "       -1.74451328e-01, -1.41014951e-01,  1.41044964e-01, -1.15678082e+00,\n",
       "       -3.32447975e-01,  1.45258524e+00,  1.19674611e+00, -5.17970190e-01,\n",
       "        1.81115446e+00,  1.00676807e+00,  3.35379461e-01, -4.13522154e-01,\n",
       "       -8.66385520e-01, -1.02631841e+00, -2.75677205e-01, -1.71551688e-01,\n",
       "        4.68742993e-01,  1.14143926e+00, -8.54609901e-01, -6.46487975e-01,\n",
       "       -1.02890885e+00,  1.42637028e+00,  1.22879897e-02, -3.22591076e-02,\n",
       "        4.73278481e-01,  1.40866249e+00, -6.86088556e-01, -1.54755292e-02,\n",
       "        5.55999343e-01,  7.51951301e-01, -2.67655345e+00,  6.03807181e-02,\n",
       "       -5.76831898e-01,  4.09366298e-02,  5.97008204e-01,  7.30790315e-01,\n",
       "       -5.05744918e-01, -3.56253726e-01,  2.46520347e-01, -4.23679300e-01,\n",
       "       -6.82495353e-01,  4.73629253e-01, -4.77775069e-02, -1.21325748e+00,\n",
       "       -1.04757712e-01, -8.50996206e-01,  4.38611167e-01, -5.74162826e-01,\n",
       "        1.69237712e-01, -1.50004951e-01,  9.41284796e-01,  1.20026570e+00,\n",
       "        1.30364756e+00, -9.15825796e-01, -1.17887589e+00,  4.92068061e-01,\n",
       "        2.26579829e+00, -2.47408286e-01, -7.28419546e-01,  3.25592593e-01,\n",
       "       -3.58876796e-01, -4.64942089e-01,  8.81281487e-01, -2.05689478e+00,\n",
       "        1.34934852e+00, -4.00955029e-01,  3.78868040e-01, -1.92095908e+00,\n",
       "        6.19400091e-01, -2.28708245e+00, -3.96862702e-01,  2.60236230e-01,\n",
       "        1.71076143e-01,  1.01444279e+00, -5.22705409e-01, -1.71561700e+00,\n",
       "       -9.64278233e-01, -1.26890843e+00,  1.88393079e+00,  6.49412719e-01,\n",
       "        1.10723368e+00, -1.61919480e-01, -3.11911567e-02,  4.60827642e-01,\n",
       "        5.91203347e-01,  8.35814681e-01,  2.37440244e-01,  1.29900561e+00,\n",
       "       -1.43976184e+00, -1.01962538e+00, -1.12988942e+00, -8.11124658e-02,\n",
       "        4.97521333e-01,  3.17667707e-01,  2.27895756e+00, -1.70487372e+00,\n",
       "        2.84480568e-01, -1.88521523e-01, -1.43800811e+00, -2.19148442e+00,\n",
       "        1.18803401e+00, -8.29876271e-02,  7.12979129e-01, -5.09925184e-01,\n",
       "        1.19768366e+00,  1.13228080e+00,  4.24714748e-01, -4.32713204e-01,\n",
       "        1.29977863e+00, -1.00401550e-01,  1.34544829e+00, -6.26255157e-01,\n",
       "        1.69593993e-01,  1.96646275e-01,  5.87852731e-02, -1.91487174e-02,\n",
       "        2.99657724e-01,  1.47892360e+00,  5.51363033e-01,  9.96132336e-03,\n",
       "        5.91671854e-01, -1.21358257e+00, -6.56393513e-01, -9.94063755e-01,\n",
       "        5.84076748e-01,  8.63063336e-01,  5.35849043e-01,  3.31214856e-01,\n",
       "        6.24125717e-01,  8.90068869e-01,  1.12580312e+00, -1.32301613e-01,\n",
       "       -3.77737673e-01, -6.49229756e-01,  1.71574997e-01,  6.50227375e-02,\n",
       "        9.88194292e-01, -1.17329517e+00,  7.83191679e-02, -2.35788020e+00,\n",
       "        3.03727627e-01,  1.17438338e+00,  3.94776493e-01,  1.67117697e+00,\n",
       "       -5.88957503e-01, -7.08711323e-01, -3.21928538e-01, -1.11116326e+00,\n",
       "       -1.25064995e+00, -1.19682126e-01, -3.42136476e-01,  3.54480552e-01,\n",
       "        1.30722035e-01, -1.55419332e+00, -2.20308865e-01,  6.46402355e-01,\n",
       "       -5.50285240e-01, -9.97267251e-02,  6.55412118e-01,  7.84416935e-01,\n",
       "       -6.89847441e-03, -1.21818027e+00, -6.62419119e-01, -4.65127888e-01,\n",
       "        1.35592538e+00, -1.69229726e-01, -6.28291619e-02,  3.68326506e-01,\n",
       "       -1.03526267e+00,  1.16000570e+00, -3.32300121e-01, -1.73774649e-01,\n",
       "        1.59788211e+00,  8.24120999e-01,  2.94848712e-01, -2.45602912e+00,\n",
       "        1.25094379e+00,  2.26375864e+00, -1.56765577e+00,  1.56411957e+00,\n",
       "       -9.21239227e-01,  1.06278823e+00, -2.74990795e-01,  2.94991955e-02,\n",
       "        3.31958352e-01, -4.81761797e-02, -1.80456344e-01, -4.18044610e-01,\n",
       "        1.90220619e-01,  1.70044619e+00,  1.40315433e+00,  3.90687929e-02,\n",
       "       -3.95652515e-02, -8.65250900e-01, -3.02440724e-01,  2.33614444e-01,\n",
       "        8.01810719e-01,  1.30732273e-01, -2.45950056e-01, -3.73497710e-01,\n",
       "       -1.35238736e+00, -3.52793886e-01,  1.62404291e+00, -1.47285815e+00,\n",
       "        1.38881699e+00,  1.19754887e+00,  2.58685528e-01, -7.24383690e-01,\n",
       "        8.07610790e-01,  1.09356916e+00, -8.04475458e-02,  1.25126129e+00,\n",
       "       -4.23731087e-01,  1.72980750e+00,  6.62046748e-01,  4.21662690e-01,\n",
       "       -1.62511763e+00, -2.86931567e+00,  1.49245863e+00, -4.94019598e-01,\n",
       "        3.69405740e+00,  1.87452101e+00, -1.39750827e+00, -1.81681136e+00,\n",
       "       -2.16352616e+00,  3.18409384e-01, -1.29501377e+00, -1.22371439e-02,\n",
       "       -1.23871389e+00, -8.45489428e-01, -1.00656156e-01,  4.91148476e-01,\n",
       "        1.15749241e+00, -1.68095312e-01,  3.46233019e-01, -1.35025295e+00,\n",
       "        5.76895382e-01, -1.50442199e+00,  1.01780307e+00,  1.18934490e+00,\n",
       "       -3.48652416e-01, -5.30831374e-01,  1.85728436e-01, -3.06866189e-01,\n",
       "        9.35547706e-01, -6.62621387e-02, -8.75869516e-01, -6.34981709e-01,\n",
       "       -9.15063941e-01, -2.71800478e-01,  2.05237001e+00, -4.24207861e-01,\n",
       "       -1.81880203e-01, -4.29909115e-01, -1.80626892e-01,  2.04253404e-01,\n",
       "        1.13722546e+00, -8.08734150e-01,  5.43297500e-02,  6.44109257e-02,\n",
       "        1.48900045e-01, -6.56883015e-02,  3.76847863e-01,  5.72651546e-01,\n",
       "       -1.34846903e+00,  7.36884855e-01,  8.51205165e-01, -8.65539951e-01,\n",
       "       -1.94320108e-01, -1.34139662e+00,  1.74059695e-01, -5.81923041e-01,\n",
       "       -1.19443933e+00, -1.83723287e+00,  7.64368189e-01, -1.11798524e+00,\n",
       "       -6.18353006e-02, -1.23318536e+00, -1.29644381e+00,  1.16815448e+00,\n",
       "       -1.16928714e+00,  2.57928156e-01, -5.08165638e-01, -3.97747999e-01,\n",
       "        7.13405013e-01, -1.67740451e+00, -1.73188802e+00, -8.30324843e-01,\n",
       "       -2.00332076e+00,  1.16070635e+00, -1.16753784e+00,  6.27466788e-02,\n",
       "        8.66934740e-02, -1.63469129e+00,  1.61745395e+00,  4.57421251e-01,\n",
       "       -2.41177545e-01,  1.61300732e+00,  9.07626883e-01, -4.91932680e-01,\n",
       "       -6.16020338e-02,  2.27636570e-01,  2.44226902e-01, -2.45567367e+00,\n",
       "       -1.25804960e+00,  3.73637671e-01,  5.47383218e-01, -1.17609858e+00,\n",
       "        7.08619227e-01,  2.46118719e+00, -1.37575651e+00, -1.24027561e+00,\n",
       "        6.86344035e-01, -9.30640303e-01, -1.31564896e+00,  1.72288759e+00,\n",
       "       -2.36863928e-01,  4.26990474e-01, -1.23579376e+00,  8.94846952e-01,\n",
       "        1.54325164e+00,  2.12772044e-01,  1.93820685e+00,  1.88193436e-01,\n",
       "        5.87411547e-01,  1.15080597e+00,  1.84945096e+00,  2.69893011e-01,\n",
       "       -1.28515270e+00,  6.35662428e-01,  1.18734560e+00,  5.27507936e-01,\n",
       "       -7.78832849e-01,  1.16813513e+00, -1.02260304e-01, -2.90093444e-02,\n",
       "       -1.40617421e-01, -1.84454168e-01, -3.02311883e-01,  6.48152606e-01,\n",
       "       -1.06139746e+00, -2.65312114e-01,  3.26946006e-01, -2.40033425e-01,\n",
       "       -2.84529010e-01,  2.22642577e-01,  1.24256222e-01, -6.16768134e-01,\n",
       "       -4.12854221e-02,  1.83393283e+00, -3.69270547e-01, -6.14364524e-01,\n",
       "       -2.46290587e-01, -9.00988018e-01,  8.96538344e-02, -1.92037159e+00,\n",
       "        4.12952828e-01, -1.75218167e-01,  8.08166874e-01, -1.40553376e+00,\n",
       "       -9.80294211e-01,  9.28622315e-01,  7.14505269e-01, -1.10591835e+00,\n",
       "       -2.50273912e-01,  9.04050530e-01,  2.09076309e-01, -3.51734757e-01,\n",
       "       -4.93174368e-01, -9.68232958e-01, -9.38442976e-02,  1.11426432e-01,\n",
       "        1.08019640e+00, -1.64078756e+00, -4.19113757e-01,  1.28512108e+00,\n",
       "       -3.69068274e-01, -2.92130184e-01, -1.08098209e+00,  1.31753832e-02,\n",
       "       -8.75382965e-02,  8.23567440e-03,  6.72268676e-01, -1.35154554e+00,\n",
       "       -9.55170663e-01,  8.58108633e-01,  3.07656624e-01, -7.17683953e-01,\n",
       "       -1.51638162e+00, -1.57545729e+00,  1.30975280e+00,  2.28902518e-01,\n",
       "       -1.68956277e+00, -3.64180448e-01, -6.05931920e-01, -8.74394382e-01,\n",
       "       -6.81692822e-01, -2.79625912e-01,  6.45847962e-02,  3.58629898e-02,\n",
       "       -1.08094522e-01, -2.66000690e-01, -1.35391938e+00,  7.95422296e-01,\n",
       "        1.97667970e+00, -4.10654283e-01, -4.98681929e-01,  9.88430338e-01,\n",
       "        1.37367866e-01, -1.56405425e+00, -5.56182622e-01, -6.24978860e-01,\n",
       "       -7.20337922e-01, -6.21710555e-01,  4.53058791e-01, -1.52036857e-01,\n",
       "       -9.70232772e-01, -1.86924319e+00,  7.84262166e-01,  7.93124208e-01,\n",
       "        9.84150525e-01, -8.74978592e-02,  3.91259872e-01, -1.40958666e+00,\n",
       "        5.04698168e-01,  1.07639394e+00, -8.23324896e-01,  8.10673070e-01,\n",
       "        3.92530983e-01,  1.25095600e-01, -7.36510869e-01, -1.03518112e+00,\n",
       "       -8.78999818e-01,  1.76646434e+00, -1.24975416e-01,  2.46927222e-01,\n",
       "       -2.42088841e+00,  1.34687698e+00,  5.00361187e-02, -4.69220724e-01,\n",
       "       -2.73261069e-01,  6.80339944e-01, -3.85391113e-01, -2.27866058e-01,\n",
       "        2.29563318e-01, -1.86890468e+00,  2.37432863e-02,  9.33932982e-01,\n",
       "       -2.56105887e-01, -4.49099221e-01, -1.28041289e+00, -3.17366272e-01,\n",
       "       -5.31292846e-01, -1.43362399e-01,  5.27468536e-01, -9.94766185e-01,\n",
       "        1.60050588e+00, -1.00613639e+00,  1.76786548e+00, -1.39667114e+00,\n",
       "        1.09516879e+00, -4.08567823e-01, -7.64407309e-01, -2.44382589e-01,\n",
       "       -5.89260148e-01,  5.72130360e-01,  6.40485760e-01,  1.41636970e+00,\n",
       "       -1.50901155e+00,  5.68322724e-01, -7.31226145e-02, -2.99193208e-02,\n",
       "        5.13654280e-01,  6.02111749e-01, -5.85792588e-01,  8.67962262e-01,\n",
       "       -2.28937243e-01, -9.40196770e-01, -1.07029690e+00, -1.31045002e+00,\n",
       "        1.64863492e-01, -4.43935260e-01,  1.04553283e+00, -6.08632826e-01,\n",
       "       -6.57610464e-01, -1.90139760e+00,  1.24221142e+00, -1.14584898e+00,\n",
       "       -8.75639925e-05, -1.85605961e+00,  7.48211095e-01, -5.38131465e-01,\n",
       "        8.63744369e-01, -4.93496732e-01,  6.34480231e-01,  7.73063694e-01,\n",
       "        6.87425947e-01, -2.90310090e+00,  2.65642772e-01,  5.01883260e-01,\n",
       "       -9.48087361e-02, -1.11147650e+00,  6.92643700e-01,  2.56420219e-01,\n",
       "        1.44257521e+00, -3.39725995e-01, -4.20929968e-01, -5.63749169e-02,\n",
       "       -5.31622284e-01,  1.20718425e-01,  6.03811376e-01, -6.02482071e-01,\n",
       "       -2.49310685e-01, -7.48393570e-02, -1.40464218e-01, -5.45525017e-01,\n",
       "       -1.31659391e+00,  1.51306500e+00, -3.26860806e-01,  1.01374704e+00,\n",
       "       -2.19007074e-01, -6.19469869e-02, -1.16960998e-02, -1.22968356e+00,\n",
       "       -2.45798550e-01,  2.63547940e-01, -1.21792855e+00, -1.41227534e+00,\n",
       "       -3.66987524e-01, -8.09745957e-01,  2.04400443e+00,  1.48240170e+00,\n",
       "        4.34381580e-01, -1.39058902e-01,  1.36533558e+00,  9.65431331e-01,\n",
       "        2.38036853e+00,  3.86677378e-01, -4.67079499e-01,  7.58448224e-01,\n",
       "       -2.76749791e-01,  1.74697645e+00, -7.24972452e-01, -7.20768551e-01,\n",
       "        6.16400608e-01,  5.71605627e-01,  4.96886006e-01,  1.16333470e+00,\n",
       "       -8.12346288e-01,  2.23919643e-01, -9.85689519e-01,  1.32163654e+00,\n",
       "        1.81479136e-01,  1.34075798e+00,  1.04241150e+00, -4.02427165e-02,\n",
       "       -7.03850403e-01, -4.25434741e-01, -1.19229760e+00,  3.68110418e-01,\n",
       "        7.78110066e-01, -1.13646430e+00,  3.87971764e-01, -4.17678900e-02,\n",
       "       -1.02262573e+00,  8.38802619e-01, -6.84267850e-01, -4.51042642e-01,\n",
       "        1.05845110e+00,  1.37668433e+00,  5.59027788e-01,  2.03941888e+00,\n",
       "        3.85980272e-01,  2.54131417e-01, -6.53096822e-02,  9.37356959e-01,\n",
       "       -5.09699160e-02,  2.52998645e-01, -4.29600049e-01, -3.80188833e-01,\n",
       "       -3.16151974e-01,  8.94326504e-02, -8.72302372e-01,  1.50684904e+00])"
      ]
     },
     "execution_count": 239,
     "metadata": {},
     "output_type": "execute_result"
    }
   ],
   "source": [
    "large_arr = np.random.randn(1000)\n",
    "large_arr"
   ]
  },
  {
   "cell_type": "code",
   "execution_count": 240,
   "metadata": {},
   "outputs": [],
   "source": [
    "large_arr.sort()"
   ]
  },
  {
   "cell_type": "code",
   "execution_count": 241,
   "metadata": {},
   "outputs": [
    {
     "data": {
      "text/plain": [
       "array([-2.90310090e+00, -2.86931567e+00, -2.70996719e+00, -2.67655345e+00,\n",
       "       -2.45602912e+00, -2.45567367e+00, -2.42088841e+00, -2.35788020e+00,\n",
       "       -2.28708245e+00, -2.21086416e+00, -2.19148442e+00, -2.16352616e+00,\n",
       "       -2.05689478e+00, -2.00332076e+00, -1.98420177e+00, -1.93425265e+00,\n",
       "       -1.92095908e+00, -1.92037159e+00, -1.91759843e+00, -1.90139760e+00,\n",
       "       -1.88264056e+00, -1.86924319e+00, -1.86890468e+00, -1.85605961e+00,\n",
       "       -1.83723287e+00, -1.82927283e+00, -1.81722391e+00, -1.81681136e+00,\n",
       "       -1.73188802e+00, -1.71706830e+00, -1.71561700e+00, -1.70487372e+00,\n",
       "       -1.69651314e+00, -1.68956277e+00, -1.67740451e+00, -1.64078756e+00,\n",
       "       -1.63624304e+00, -1.63469129e+00, -1.62511763e+00, -1.62168214e+00,\n",
       "       -1.58844790e+00, -1.57545729e+00, -1.56765577e+00, -1.56464861e+00,\n",
       "       -1.56405425e+00, -1.55419332e+00, -1.55191893e+00, -1.51638162e+00,\n",
       "       -1.51254475e+00, -1.51064128e+00, -1.50901155e+00, -1.50442199e+00,\n",
       "       -1.47285815e+00, -1.47094675e+00, -1.46054781e+00, -1.43976184e+00,\n",
       "       -1.43800811e+00, -1.43718469e+00, -1.43453841e+00, -1.41371188e+00,\n",
       "       -1.41227534e+00, -1.40958666e+00, -1.40553376e+00, -1.40233703e+00,\n",
       "       -1.40214508e+00, -1.39750827e+00, -1.39667114e+00, -1.38595151e+00,\n",
       "       -1.37711245e+00, -1.37575651e+00, -1.35391938e+00, -1.35238736e+00,\n",
       "       -1.35154554e+00, -1.35025295e+00, -1.34846903e+00, -1.34139662e+00,\n",
       "       -1.33697547e+00, -1.31784765e+00, -1.31659391e+00, -1.31564896e+00,\n",
       "       -1.31045002e+00, -1.29644381e+00, -1.29501377e+00, -1.28910161e+00,\n",
       "       -1.28634219e+00, -1.28515270e+00, -1.28084682e+00, -1.28041289e+00,\n",
       "       -1.27926295e+00, -1.26890843e+00, -1.26469263e+00, -1.26210970e+00,\n",
       "       -1.25804960e+00, -1.25064995e+00, -1.24712892e+00, -1.24546659e+00,\n",
       "       -1.24027561e+00, -1.23871389e+00, -1.23579376e+00, -1.23318536e+00,\n",
       "       -1.23094679e+00, -1.22968356e+00, -1.22938051e+00, -1.21818027e+00,\n",
       "       -1.21792855e+00, -1.21601319e+00, -1.21358257e+00, -1.21325748e+00,\n",
       "       -1.21317696e+00, -1.19443933e+00, -1.19229760e+00, -1.18858792e+00,\n",
       "       -1.17887589e+00, -1.17673858e+00, -1.17609858e+00, -1.17329517e+00,\n",
       "       -1.16928714e+00, -1.16753784e+00, -1.15678082e+00, -1.14584898e+00,\n",
       "       -1.13646430e+00, -1.12988942e+00, -1.11798524e+00, -1.11515061e+00,\n",
       "       -1.11226650e+00, -1.11147650e+00, -1.11116326e+00, -1.10591835e+00,\n",
       "       -1.10266806e+00, -1.09716537e+00, -1.08953972e+00, -1.08098209e+00,\n",
       "       -1.07029690e+00, -1.06586573e+00, -1.06139746e+00, -1.05247359e+00,\n",
       "       -1.04694298e+00, -1.04548636e+00, -1.04447929e+00, -1.03526267e+00,\n",
       "       -1.03518112e+00, -1.02890885e+00, -1.02631841e+00, -1.02262573e+00,\n",
       "       -1.01996075e+00, -1.01962538e+00, -1.01819104e+00, -1.00613639e+00,\n",
       "       -1.00186076e+00, -9.94791511e-01, -9.94766185e-01, -9.94063755e-01,\n",
       "       -9.86473296e-01, -9.85689519e-01, -9.80294211e-01, -9.70232772e-01,\n",
       "       -9.68232958e-01, -9.64278233e-01, -9.56044138e-01, -9.55170663e-01,\n",
       "       -9.52579469e-01, -9.40196770e-01, -9.33049000e-01, -9.30640303e-01,\n",
       "       -9.21239227e-01, -9.20455679e-01, -9.17572923e-01, -9.15825796e-01,\n",
       "       -9.15063941e-01, -9.00988018e-01, -8.78999818e-01, -8.76728992e-01,\n",
       "       -8.75869516e-01, -8.74394382e-01, -8.72302372e-01, -8.69660090e-01,\n",
       "       -8.66385520e-01, -8.65539951e-01, -8.65250900e-01, -8.64320241e-01,\n",
       "       -8.56555787e-01, -8.55262951e-01, -8.54609901e-01, -8.50996206e-01,\n",
       "       -8.48702657e-01, -8.45489428e-01, -8.37030834e-01, -8.30561813e-01,\n",
       "       -8.30324843e-01, -8.24939854e-01, -8.23324896e-01, -8.12346288e-01,\n",
       "       -8.09745957e-01, -8.08734150e-01, -7.98713446e-01, -7.91475561e-01,\n",
       "       -7.88955520e-01, -7.81695128e-01, -7.78832849e-01, -7.73900243e-01,\n",
       "       -7.72077046e-01, -7.64407309e-01, -7.51446595e-01, -7.51422972e-01,\n",
       "       -7.48773971e-01, -7.47186091e-01, -7.44616583e-01, -7.44155434e-01,\n",
       "       -7.42608903e-01, -7.42206456e-01, -7.36510869e-01, -7.28419546e-01,\n",
       "       -7.25411825e-01, -7.24972452e-01, -7.24383690e-01, -7.20768551e-01,\n",
       "       -7.20337922e-01, -7.17683953e-01, -7.13062202e-01, -7.12780672e-01,\n",
       "       -7.11876314e-01, -7.08711323e-01, -7.04437165e-01, -7.03850403e-01,\n",
       "       -6.93856875e-01, -6.92268223e-01, -6.89615453e-01, -6.86088556e-01,\n",
       "       -6.84267850e-01, -6.82495353e-01, -6.81692822e-01, -6.70480484e-01,\n",
       "       -6.68001043e-01, -6.65684335e-01, -6.64945265e-01, -6.62419119e-01,\n",
       "       -6.57610464e-01, -6.56393513e-01, -6.49229756e-01, -6.46487975e-01,\n",
       "       -6.43042059e-01, -6.34981709e-01, -6.26459082e-01, -6.26255157e-01,\n",
       "       -6.24978860e-01, -6.21710555e-01, -6.21328351e-01, -6.16768134e-01,\n",
       "       -6.14364524e-01, -6.08632826e-01, -6.05931920e-01, -6.03891184e-01,\n",
       "       -6.02482071e-01, -6.02338891e-01, -6.01071486e-01, -5.95190848e-01,\n",
       "       -5.89260148e-01, -5.88957503e-01, -5.87380059e-01, -5.85792588e-01,\n",
       "       -5.83131670e-01, -5.82916613e-01, -5.81923041e-01, -5.76831898e-01,\n",
       "       -5.74162826e-01, -5.70621030e-01, -5.62410477e-01, -5.60121862e-01,\n",
       "       -5.56182622e-01, -5.50285240e-01, -5.45525017e-01, -5.45157779e-01,\n",
       "       -5.38131465e-01, -5.36055319e-01, -5.31622284e-01, -5.31292846e-01,\n",
       "       -5.30831374e-01, -5.22705409e-01, -5.17970190e-01, -5.13794433e-01,\n",
       "       -5.09925184e-01, -5.08165638e-01, -5.05744918e-01, -5.00135400e-01,\n",
       "       -4.98681929e-01, -4.94019598e-01, -4.93496732e-01, -4.93174368e-01,\n",
       "       -4.91932680e-01, -4.88682732e-01, -4.69220724e-01, -4.67079499e-01,\n",
       "       -4.65127888e-01, -4.64942089e-01, -4.64561683e-01, -4.63533877e-01,\n",
       "       -4.51042642e-01, -4.49099221e-01, -4.43935260e-01, -4.43191058e-01,\n",
       "       -4.36742561e-01, -4.35125917e-01, -4.32713204e-01, -4.29909115e-01,\n",
       "       -4.29600049e-01, -4.25434741e-01, -4.24207861e-01, -4.23731087e-01,\n",
       "       -4.23679300e-01, -4.20929968e-01, -4.19113757e-01, -4.18044610e-01,\n",
       "       -4.13522154e-01, -4.12161084e-01, -4.10654283e-01, -4.08567823e-01,\n",
       "       -4.00955029e-01, -3.97747999e-01, -3.96862702e-01, -3.87591586e-01,\n",
       "       -3.85391113e-01, -3.84374909e-01, -3.82026749e-01, -3.80188833e-01,\n",
       "       -3.77737673e-01, -3.77085449e-01, -3.73497710e-01, -3.69270547e-01,\n",
       "       -3.69068274e-01, -3.66987524e-01, -3.64180448e-01, -3.61883708e-01,\n",
       "       -3.58876796e-01, -3.56644330e-01, -3.56253726e-01, -3.52793886e-01,\n",
       "       -3.51734757e-01, -3.50757170e-01, -3.48949851e-01, -3.48652416e-01,\n",
       "       -3.46121272e-01, -3.42136476e-01, -3.39725995e-01, -3.38651314e-01,\n",
       "       -3.32447975e-01, -3.32300121e-01, -3.30243791e-01, -3.26860806e-01,\n",
       "       -3.23357938e-01, -3.22301060e-01, -3.21928538e-01, -3.17915033e-01,\n",
       "       -3.17366272e-01, -3.16862528e-01, -3.16151974e-01, -3.09340158e-01,\n",
       "       -3.08747058e-01, -3.08050911e-01, -3.07969807e-01, -3.06866189e-01,\n",
       "       -3.02440724e-01, -3.02311883e-01, -3.00475337e-01, -2.94419492e-01,\n",
       "       -2.92130184e-01, -2.84892066e-01, -2.84529010e-01, -2.81240450e-01,\n",
       "       -2.79625912e-01, -2.77640510e-01, -2.76749791e-01, -2.75677205e-01,\n",
       "       -2.74990795e-01, -2.73261069e-01, -2.71800478e-01, -2.66000690e-01,\n",
       "       -2.65312114e-01, -2.64933794e-01, -2.63571808e-01, -2.59299816e-01,\n",
       "       -2.57896635e-01, -2.56105887e-01, -2.54520226e-01, -2.51923429e-01,\n",
       "       -2.50998254e-01, -2.50273912e-01, -2.49310685e-01, -2.47425727e-01,\n",
       "       -2.47408286e-01, -2.46290587e-01, -2.45950056e-01, -2.45798550e-01,\n",
       "       -2.44382589e-01, -2.41177545e-01, -2.40033425e-01, -2.36969696e-01,\n",
       "       -2.36863928e-01, -2.30067145e-01, -2.28937243e-01, -2.28534098e-01,\n",
       "       -2.27995391e-01, -2.27866058e-01, -2.25305589e-01, -2.23056862e-01,\n",
       "       -2.20308865e-01, -2.19007074e-01, -2.10449248e-01, -2.00202967e-01,\n",
       "       -1.94320108e-01, -1.94173242e-01, -1.88521523e-01, -1.87723135e-01,\n",
       "       -1.85932961e-01, -1.84454168e-01, -1.82031258e-01, -1.81880203e-01,\n",
       "       -1.80626892e-01, -1.80456344e-01, -1.75218167e-01, -1.74451328e-01,\n",
       "       -1.73774649e-01, -1.71551688e-01, -1.69229726e-01, -1.68095312e-01,\n",
       "       -1.66735105e-01, -1.66166834e-01, -1.61919480e-01, -1.56584198e-01,\n",
       "       -1.52036857e-01, -1.50004951e-01, -1.46454659e-01, -1.45645123e-01,\n",
       "       -1.43362399e-01, -1.41014951e-01, -1.40617421e-01, -1.40464218e-01,\n",
       "       -1.39058902e-01, -1.36213078e-01, -1.32301613e-01, -1.28296344e-01,\n",
       "       -1.24975416e-01, -1.19682126e-01, -1.16090128e-01, -1.13261818e-01,\n",
       "       -1.13030445e-01, -1.08094522e-01, -1.04757712e-01, -1.04724591e-01,\n",
       "       -1.02260304e-01, -1.00656156e-01, -1.00401550e-01, -9.97267251e-02,\n",
       "       -9.81780958e-02, -9.50312786e-02, -9.48087361e-02, -9.43774205e-02,\n",
       "       -9.38442976e-02, -8.99204302e-02, -8.89672510e-02, -8.75382965e-02,\n",
       "       -8.74978592e-02, -8.74381605e-02, -8.74241130e-02, -8.42173717e-02,\n",
       "       -8.29876271e-02, -8.25196780e-02, -8.11124658e-02, -8.04475458e-02,\n",
       "       -7.52211343e-02, -7.48393570e-02, -7.44283342e-02, -7.31226145e-02,\n",
       "       -7.10082532e-02, -6.62621387e-02, -6.56883015e-02, -6.53096822e-02,\n",
       "       -6.40875118e-02, -6.28291619e-02, -6.19469869e-02, -6.18353006e-02,\n",
       "       -6.16020338e-02, -5.92469790e-02, -5.63749169e-02, -5.29702186e-02,\n",
       "       -5.09699160e-02, -4.81761797e-02, -4.77775069e-02, -4.18521638e-02,\n",
       "       -4.17678900e-02, -4.12854221e-02, -4.02427165e-02, -3.95652515e-02,\n",
       "       -3.74644465e-02, -3.65310307e-02, -3.22591076e-02, -3.11911567e-02,\n",
       "       -2.99193208e-02, -2.90093444e-02, -2.33858728e-02, -1.91487174e-02,\n",
       "       -1.54755292e-02, -1.22371439e-02, -1.16960998e-02, -6.89847441e-03,\n",
       "       -5.52152706e-03, -4.56553835e-03, -2.43403931e-03, -1.92611670e-03,\n",
       "       -2.96079168e-04, -8.75639925e-05,  8.23567440e-03,  9.96132336e-03,\n",
       "        1.22879897e-02,  1.24615715e-02,  1.31753832e-02,  2.14686689e-02,\n",
       "        2.19293787e-02,  2.26857639e-02,  2.37432863e-02,  2.62119608e-02,\n",
       "        2.84216833e-02,  2.94991955e-02,  3.58629898e-02,  3.90687929e-02,\n",
       "        4.02221052e-02,  4.09366298e-02,  5.00361187e-02,  5.19754770e-02,\n",
       "        5.34464630e-02,  5.35934624e-02,  5.36116891e-02,  5.43297500e-02,\n",
       "        5.49712197e-02,  5.79467449e-02,  5.87852731e-02,  6.03807181e-02,\n",
       "        6.08190998e-02,  6.27466788e-02,  6.44109257e-02,  6.45847962e-02,\n",
       "        6.50227375e-02,  6.67205656e-02,  6.78460651e-02,  7.19779979e-02,\n",
       "        7.21274813e-02,  7.25451893e-02,  7.33009237e-02,  7.34631525e-02,\n",
       "        7.83191679e-02,  7.91557731e-02,  8.35676783e-02,  8.66934740e-02,\n",
       "        8.94326504e-02,  8.96538344e-02,  9.36397756e-02,  1.04748955e-01,\n",
       "        1.11426432e-01,  1.15284044e-01,  1.15758288e-01,  1.16644693e-01,\n",
       "        1.20718425e-01,  1.24256222e-01,  1.25095600e-01,  1.30722035e-01,\n",
       "        1.30732273e-01,  1.36415084e-01,  1.36577618e-01,  1.37367866e-01,\n",
       "        1.39579490e-01,  1.41021821e-01,  1.41044964e-01,  1.48423431e-01,\n",
       "        1.48900045e-01,  1.50645804e-01,  1.54837923e-01,  1.57547230e-01,\n",
       "        1.64863492e-01,  1.66834690e-01,  1.69237712e-01,  1.69306940e-01,\n",
       "        1.69328000e-01,  1.69593993e-01,  1.71076143e-01,  1.71574997e-01,\n",
       "        1.74059695e-01,  1.74239386e-01,  1.76884978e-01,  1.79520186e-01,\n",
       "        1.81479136e-01,  1.81725006e-01,  1.83897829e-01,  1.85728436e-01,\n",
       "        1.88193436e-01,  1.88413143e-01,  1.90220619e-01,  1.91566576e-01,\n",
       "        1.96646275e-01,  2.00940563e-01,  2.04253404e-01,  2.09076309e-01,\n",
       "        2.09387319e-01,  2.12772044e-01,  2.22642577e-01,  2.23919643e-01,\n",
       "        2.26920339e-01,  2.27636570e-01,  2.28902518e-01,  2.29563318e-01,\n",
       "        2.33614444e-01,  2.35556004e-01,  2.37440244e-01,  2.39345963e-01,\n",
       "        2.44195919e-01,  2.44226902e-01,  2.46520347e-01,  2.46927222e-01,\n",
       "        2.51107191e-01,  2.52475801e-01,  2.52778645e-01,  2.52998645e-01,\n",
       "        2.54131417e-01,  2.56420219e-01,  2.57928156e-01,  2.58685528e-01,\n",
       "        2.58840608e-01,  2.59519309e-01,  2.60236230e-01,  2.63547940e-01,\n",
       "        2.65642772e-01,  2.69893011e-01,  2.78864560e-01,  2.82324575e-01,\n",
       "        2.83265387e-01,  2.84480568e-01,  2.94392501e-01,  2.94848712e-01,\n",
       "        2.99657724e-01,  3.01802804e-01,  3.03727627e-01,  3.07656624e-01,\n",
       "        3.14549041e-01,  3.15798182e-01,  3.17667707e-01,  3.17910960e-01,\n",
       "        3.18133016e-01,  3.18409384e-01,  3.19709581e-01,  3.25592593e-01,\n",
       "        3.26946006e-01,  3.31113019e-01,  3.31214856e-01,  3.31958352e-01,\n",
       "        3.34073850e-01,  3.35379461e-01,  3.46233019e-01,  3.50417968e-01,\n",
       "        3.54318164e-01,  3.54480552e-01,  3.58624848e-01,  3.60943030e-01,\n",
       "        3.62099133e-01,  3.62489499e-01,  3.68110418e-01,  3.68326506e-01,\n",
       "        3.73637671e-01,  3.74123469e-01,  3.76847863e-01,  3.78868040e-01,\n",
       "        3.85980272e-01,  3.86677378e-01,  3.87971764e-01,  3.91156429e-01,\n",
       "        3.91259872e-01,  3.92530983e-01,  3.94776493e-01,  3.96560530e-01,\n",
       "        4.05841635e-01,  4.12952828e-01,  4.15591740e-01,  4.21662690e-01,\n",
       "        4.24714748e-01,  4.26990474e-01,  4.34381580e-01,  4.36763991e-01,\n",
       "        4.37938737e-01,  4.38611167e-01,  4.46028598e-01,  4.53058791e-01,\n",
       "        4.53678934e-01,  4.57421251e-01,  4.59540501e-01,  4.60827642e-01,\n",
       "        4.67356409e-01,  4.68742993e-01,  4.70535341e-01,  4.73278481e-01,\n",
       "        4.73629253e-01,  4.80551554e-01,  4.82053304e-01,  4.91148476e-01,\n",
       "        4.92068061e-01,  4.96886006e-01,  4.97521333e-01,  5.01883260e-01,\n",
       "        5.04698168e-01,  5.10458513e-01,  5.13654280e-01,  5.16863089e-01,\n",
       "        5.20002641e-01,  5.26645899e-01,  5.27468536e-01,  5.27507936e-01,\n",
       "        5.29000656e-01,  5.30201393e-01,  5.32581830e-01,  5.35849043e-01,\n",
       "        5.39635317e-01,  5.43485324e-01,  5.44902366e-01,  5.47383218e-01,\n",
       "        5.49682378e-01,  5.51363033e-01,  5.55999343e-01,  5.59027788e-01,\n",
       "        5.68322724e-01,  5.71605627e-01,  5.72130360e-01,  5.72447550e-01,\n",
       "        5.72651546e-01,  5.76895382e-01,  5.81181095e-01,  5.81295236e-01,\n",
       "        5.84039637e-01,  5.84076748e-01,  5.87411547e-01,  5.91153168e-01,\n",
       "        5.91203347e-01,  5.91671854e-01,  5.93350012e-01,  5.97008204e-01,\n",
       "        6.02111749e-01,  6.03811376e-01,  6.12137950e-01,  6.16400608e-01,\n",
       "        6.19400091e-01,  6.24125717e-01,  6.24176567e-01,  6.29011311e-01,\n",
       "        6.29880736e-01,  6.34480231e-01,  6.35662428e-01,  6.36250249e-01,\n",
       "        6.37391445e-01,  6.38036249e-01,  6.40026075e-01,  6.40485760e-01,\n",
       "        6.46402355e-01,  6.48152606e-01,  6.49412719e-01,  6.55412118e-01,\n",
       "        6.62046748e-01,  6.72268676e-01,  6.80339944e-01,  6.84906931e-01,\n",
       "        6.86344035e-01,  6.87425947e-01,  6.92643700e-01,  6.92832997e-01,\n",
       "        6.94808688e-01,  7.05852283e-01,  7.08335667e-01,  7.08619227e-01,\n",
       "        7.12979129e-01,  7.13405013e-01,  7.14505269e-01,  7.15041723e-01,\n",
       "        7.17111208e-01,  7.20776593e-01,  7.28766223e-01,  7.30790315e-01,\n",
       "        7.36884855e-01,  7.37585206e-01,  7.48211095e-01,  7.51951301e-01,\n",
       "        7.53655887e-01,  7.58448224e-01,  7.60020996e-01,  7.64368189e-01,\n",
       "        7.65970303e-01,  7.73063694e-01,  7.75501368e-01,  7.76870594e-01,\n",
       "        7.78110066e-01,  7.84262166e-01,  7.84416935e-01,  7.93124208e-01,\n",
       "        7.95422296e-01,  7.96275995e-01,  7.97404130e-01,  8.01810719e-01,\n",
       "        8.07610790e-01,  8.07845087e-01,  8.08166874e-01,  8.10673070e-01,\n",
       "        8.12280540e-01,  8.17942288e-01,  8.24115042e-01,  8.24120999e-01,\n",
       "        8.26037850e-01,  8.27595725e-01,  8.35814681e-01,  8.38802619e-01,\n",
       "        8.39778495e-01,  8.40068294e-01,  8.45045931e-01,  8.45072929e-01,\n",
       "        8.49026167e-01,  8.51205165e-01,  8.58108633e-01,  8.63063336e-01,\n",
       "        8.63744369e-01,  8.66314032e-01,  8.67962262e-01,  8.72233911e-01,\n",
       "        8.75709998e-01,  8.81281487e-01,  8.86912553e-01,  8.90068869e-01,\n",
       "        8.94846952e-01,  8.97222810e-01,  9.00759880e-01,  9.04050530e-01,\n",
       "        9.07557195e-01,  9.07626883e-01,  9.17119686e-01,  9.20012932e-01,\n",
       "        9.28622315e-01,  9.33932982e-01,  9.35547706e-01,  9.37356959e-01,\n",
       "        9.39688403e-01,  9.41284796e-01,  9.51270088e-01,  9.54382040e-01,\n",
       "        9.58451210e-01,  9.61888274e-01,  9.65431331e-01,  9.66431611e-01,\n",
       "        9.68569007e-01,  9.74199804e-01,  9.76465694e-01,  9.84150525e-01,\n",
       "        9.88194292e-01,  9.88430338e-01,  1.00676807e+00,  1.00750547e+00,\n",
       "        1.01212672e+00,  1.01256028e+00,  1.01339895e+00,  1.01374704e+00,\n",
       "        1.01411885e+00,  1.01444279e+00,  1.01754380e+00,  1.01780307e+00,\n",
       "        1.02650994e+00,  1.02668394e+00,  1.02840708e+00,  1.03583538e+00,\n",
       "        1.04241150e+00,  1.04553283e+00,  1.04968331e+00,  1.05358519e+00,\n",
       "        1.05845110e+00,  1.06255616e+00,  1.06278823e+00,  1.07639394e+00,\n",
       "        1.08019640e+00,  1.09356916e+00,  1.09516879e+00,  1.10179073e+00,\n",
       "        1.10723368e+00,  1.11685750e+00,  1.12262837e+00,  1.12580312e+00,\n",
       "        1.13228080e+00,  1.13722546e+00,  1.14143926e+00,  1.14549085e+00,\n",
       "        1.15080597e+00,  1.15259602e+00,  1.15749241e+00,  1.16000570e+00,\n",
       "        1.16070635e+00,  1.16333470e+00,  1.16813513e+00,  1.16815448e+00,\n",
       "        1.17222965e+00,  1.17438338e+00,  1.18734560e+00,  1.18803401e+00,\n",
       "        1.18934490e+00,  1.19674611e+00,  1.19677065e+00,  1.19754887e+00,\n",
       "        1.19768366e+00,  1.20026570e+00,  1.20086386e+00,  1.22221790e+00,\n",
       "        1.23007663e+00,  1.23304870e+00,  1.24221142e+00,  1.25094379e+00,\n",
       "        1.25126129e+00,  1.28512108e+00,  1.29351382e+00,  1.29900561e+00,\n",
       "        1.29977863e+00,  1.30364756e+00,  1.30975280e+00,  1.31482855e+00,\n",
       "        1.31542861e+00,  1.31916338e+00,  1.32163654e+00,  1.32342722e+00,\n",
       "        1.32517092e+00,  1.33631699e+00,  1.34075798e+00,  1.34544829e+00,\n",
       "        1.34687698e+00,  1.34934852e+00,  1.35592538e+00,  1.36533558e+00,\n",
       "        1.37668433e+00,  1.37787748e+00,  1.38881699e+00,  1.40315433e+00,\n",
       "        1.40686904e+00,  1.40866249e+00,  1.41256513e+00,  1.41636970e+00,\n",
       "        1.42637028e+00,  1.44257521e+00,  1.44458591e+00,  1.45258524e+00,\n",
       "        1.45414932e+00,  1.47892360e+00,  1.48240170e+00,  1.49245863e+00,\n",
       "        1.50684904e+00,  1.51306500e+00,  1.52125825e+00,  1.54325164e+00,\n",
       "        1.56387404e+00,  1.56411957e+00,  1.59788211e+00,  1.60050588e+00,\n",
       "        1.61300732e+00,  1.61745395e+00,  1.62404291e+00,  1.65630813e+00,\n",
       "        1.67117697e+00,  1.68902241e+00,  1.70044619e+00,  1.71290560e+00,\n",
       "        1.72288759e+00,  1.72980750e+00,  1.74697645e+00,  1.76646434e+00,\n",
       "        1.76786548e+00,  1.77066662e+00,  1.81115446e+00,  1.81188025e+00,\n",
       "        1.83393283e+00,  1.84718193e+00,  1.84945096e+00,  1.87452101e+00,\n",
       "        1.88393079e+00,  1.93023034e+00,  1.93820685e+00,  1.96550548e+00,\n",
       "        1.97234341e+00,  1.97667970e+00,  2.03941888e+00,  2.04400443e+00,\n",
       "        2.05237001e+00,  2.18444932e+00,  2.26375864e+00,  2.26579829e+00,\n",
       "        2.27895756e+00,  2.32013865e+00,  2.38036853e+00,  2.41171702e+00,\n",
       "        2.46118719e+00,  2.46673904e+00,  2.50347706e+00,  2.73691529e+00,\n",
       "        2.76627455e+00,  2.88096217e+00,  3.69405740e+00,  3.85178335e+00])"
      ]
     },
     "execution_count": 241,
     "metadata": {},
     "output_type": "execute_result"
    }
   ],
   "source": [
    "large_arr"
   ]
  },
  {
   "cell_type": "code",
   "execution_count": 243,
   "metadata": {},
   "outputs": [
    {
     "data": {
      "text/plain": [
       "-1.5090115464526022"
      ]
     },
     "execution_count": 243,
     "metadata": {},
     "output_type": "execute_result"
    }
   ],
   "source": [
    "large_arr[int(0.05 * len(large_arr))] #5th percent number element"
   ]
  },
  {
   "cell_type": "code",
   "execution_count": null,
   "metadata": {},
   "outputs": [],
   "source": []
  }
 ],
 "metadata": {
  "kernelspec": {
   "display_name": "Python 3",
   "language": "python",
   "name": "python3"
  },
  "language_info": {
   "codemirror_mode": {
    "name": "ipython",
    "version": 3
   },
   "file_extension": ".py",
   "mimetype": "text/x-python",
   "name": "python",
   "nbconvert_exporter": "python",
   "pygments_lexer": "ipython3",
   "version": "3.7.5"
  }
 },
 "nbformat": 4,
 "nbformat_minor": 2
}
